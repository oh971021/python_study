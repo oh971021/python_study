{
 "cells": [
  {
   "cell_type": "code",
   "execution_count": 1,
   "metadata": {},
   "outputs": [
    {
     "name": "stdout",
     "output_type": "stream",
     "text": [
      "3.7.10 (default, Feb 26 2021, 13:06:18) [MSC v.1916 64 bit (AMD64)]\n"
     ]
    }
   ],
   "source": [
    "import sys\n",
    "\n",
    "print(sys.version)"
   ]
  },
  {
   "cell_type": "code",
   "execution_count": null,
   "metadata": {},
   "outputs": [],
   "source": []
  },
  {
   "cell_type": "code",
   "execution_count": null,
   "metadata": {},
   "outputs": [],
   "source": []
  },
  {
   "cell_type": "markdown",
   "metadata": {},
   "source": [
    "# 클래스란\n",
    "\n",
    "- 다양한 객체를 사용하기 위한 하나의 템플릿\n",
    "- 객체를 생성하는 하나의 구조이며서 하나의 자료형이다\n",
    "\n",
    "- 속성은 클래스와 객체 속성으로 구분한다. 보통 객체의 속성은 객체마다 만들어지고 클래스 속성은 클래스에 한번만들어진다."
   ]
  },
  {
   "cell_type": "markdown",
   "metadata": {},
   "source": [
    "# 1. 클래스 정의\n",
    "\n",
    "- 클래스는 객체를 만드는 템플릿이다.\n",
    "- 파이썬 클래스도 하나의 객체이다. 클래스를 만드는 메타 클래스(type) 이 존재한다.\n",
    "- 클래스를 작성하면 다른 클래스를 상속해서 기능을 확장할 수 있다.\n"
   ]
  },
  {
   "cell_type": "markdown",
   "metadata": {},
   "source": [
    "## 1.1 클래스 기초 \n",
    "\n",
    "- 파이썬은 부모 클래스를 상속한다.\n",
    "- 클래스 정의할 때 메타클래스도 지정할 수 있다.\n",
    "- 메타 클래스는 클래스의 클래스로 클래스가 사용하는 다양한 속성과 메소드를 가지고 있다.\n"
   ]
  },
  {
   "cell_type": "code",
   "execution_count": null,
   "metadata": {},
   "outputs": [],
   "source": []
  },
  {
   "cell_type": "markdown",
   "metadata": {},
   "source": [
    "### 아무것도 하지 않는 클래스를 만든다.\n",
    "\n",
    "- 보통 속성과 메소드 없이 pass 문만 작성한다."
   ]
  },
  {
   "cell_type": "markdown",
   "metadata": {},
   "source": [
    "### 자식 클래스가 상속을 할 클래스"
   ]
  },
  {
   "cell_type": "code",
   "execution_count": 1,
   "metadata": {},
   "outputs": [],
   "source": [
    "# 클래스를 정의하면 \n",
    "class 슈퍼클래스 :\n",
    "    pass"
   ]
  },
  {
   "cell_type": "markdown",
   "metadata": {},
   "source": [
    "### 자식 클래스 정의, 보통 메타클래스도 지정"
   ]
  },
  {
   "cell_type": "code",
   "execution_count": 2,
   "metadata": {},
   "outputs": [],
   "source": [
    "# 메타클래스를 정의한다는 것은 수정도 가능하다는 뜻.\n",
    "class 클래스명(슈퍼클래스, metaclass=type) :\n",
    "    pass"
   ]
  },
  {
   "cell_type": "markdown",
   "metadata": {},
   "source": [
    "### 아무것도 하지않는 클래스도 객체를 생성할 수 있다.\n",
    "\n",
    "- 클래스 이름과 실행연산자를 같이 사용해서 하나의 객체를 만든다.\n",
    "- 객체를 사용하기 위해서는 변수에 할당한다."
   ]
  },
  {
   "cell_type": "code",
   "execution_count": 17,
   "metadata": {},
   "outputs": [],
   "source": [
    "# 만들어진 객체는 object를 상속한다.\n",
    "class A :\n",
    "    pass"
   ]
  },
  {
   "cell_type": "code",
   "execution_count": 22,
   "metadata": {},
   "outputs": [
    {
     "data": {
      "text/plain": [
       "type"
      ]
     },
     "execution_count": 22,
     "metadata": {},
     "output_type": "execute_result"
    }
   ],
   "source": [
    "type(A)"
   ]
  },
  {
   "cell_type": "code",
   "execution_count": 18,
   "metadata": {},
   "outputs": [
    {
     "data": {
      "text/plain": [
       "<__main__.A at 0x7fc4dca9de20>"
      ]
     },
     "execution_count": 18,
     "metadata": {},
     "output_type": "execute_result"
    }
   ],
   "source": [
    "# 클래스 A의 객체가 만들어진다.\n",
    "object.__new__(A)"
   ]
  },
  {
   "cell_type": "code",
   "execution_count": 19,
   "metadata": {},
   "outputs": [],
   "source": [
    "# 여기서 오브젝트는 뭐야?\n",
    "# 기본 object는 class다. (최상위 class이다. 모든 기능을 가져오는 친구)\n",
    "object.__init__(A())"
   ]
  },
  {
   "cell_type": "code",
   "execution_count": null,
   "metadata": {},
   "outputs": [],
   "source": []
  },
  {
   "cell_type": "code",
   "execution_count": 14,
   "metadata": {},
   "outputs": [],
   "source": [
    "a = A()"
   ]
  },
  {
   "cell_type": "code",
   "execution_count": null,
   "metadata": {},
   "outputs": [],
   "source": []
  },
  {
   "cell_type": "code",
   "execution_count": null,
   "metadata": {},
   "outputs": [],
   "source": [
    "# class 를 만들면 무조건 object를 자동 상속한다.\n",
    "# 클래스를 만드는게 메타클래스다."
   ]
  },
  {
   "cell_type": "code",
   "execution_count": null,
   "metadata": {},
   "outputs": [],
   "source": []
  },
  {
   "cell_type": "code",
   "execution_count": null,
   "metadata": {},
   "outputs": [],
   "source": []
  },
  {
   "cell_type": "markdown",
   "metadata": {},
   "source": [
    "###  객체의 속성을 런타임에 삽입할 수 있다"
   ]
  },
  {
   "cell_type": "code",
   "execution_count": 5,
   "metadata": {},
   "outputs": [],
   "source": [
    "a.name = 100"
   ]
  },
  {
   "cell_type": "code",
   "execution_count": 6,
   "metadata": {},
   "outputs": [],
   "source": [
    "a.age = 32"
   ]
  },
  {
   "cell_type": "code",
   "execution_count": 7,
   "metadata": {},
   "outputs": [
    {
     "data": {
      "text/plain": [
       "{'name': 100, 'age': 32}"
      ]
     },
     "execution_count": 7,
     "metadata": {},
     "output_type": "execute_result"
    }
   ],
   "source": [
    "a.__dict__"
   ]
  },
  {
   "cell_type": "code",
   "execution_count": null,
   "metadata": {},
   "outputs": [],
   "source": []
  },
  {
   "cell_type": "code",
   "execution_count": 211,
   "metadata": {},
   "outputs": [],
   "source": [
    "class Student :\n",
    "    def __init__(self,name,age) :\n",
    "        self.name = name\n",
    "        self.age = age\n",
    "        \n",
    "    def nam(self) :\n",
    "        return self.name, self.age"
   ]
  },
  {
   "cell_type": "code",
   "execution_count": 212,
   "metadata": {},
   "outputs": [],
   "source": [
    "s = Student(\"준석\", 25)"
   ]
  },
  {
   "cell_type": "code",
   "execution_count": 213,
   "metadata": {},
   "outputs": [
    {
     "data": {
      "text/plain": [
       "('준석', 25)"
      ]
     },
     "execution_count": 213,
     "metadata": {},
     "output_type": "execute_result"
    }
   ],
   "source": [
    "s.name, s.age"
   ]
  },
  {
   "cell_type": "code",
   "execution_count": 214,
   "metadata": {},
   "outputs": [
    {
     "data": {
      "text/plain": [
       "('준석', 25)"
      ]
     },
     "execution_count": 214,
     "metadata": {},
     "output_type": "execute_result"
    }
   ],
   "source": [
    "s.nam()"
   ]
  },
  {
   "cell_type": "code",
   "execution_count": 215,
   "metadata": {},
   "outputs": [
    {
     "data": {
      "text/plain": [
       "{'name': '준석', 'age': 25}"
      ]
     },
     "execution_count": 215,
     "metadata": {},
     "output_type": "execute_result"
    }
   ],
   "source": [
    "s.__dict__"
   ]
  },
  {
   "cell_type": "code",
   "execution_count": 216,
   "metadata": {},
   "outputs": [
    {
     "data": {
      "text/plain": [
       "mappingproxy({'__module__': '__main__',\n",
       "              '__init__': <function __main__.Student.__init__(self, name, age)>,\n",
       "              'nam': <function __main__.Student.nam(self)>,\n",
       "              '__dict__': <attribute '__dict__' of 'Student' objects>,\n",
       "              '__weakref__': <attribute '__weakref__' of 'Student' objects>,\n",
       "              '__doc__': None})"
      ]
     },
     "execution_count": 216,
     "metadata": {},
     "output_type": "execute_result"
    }
   ],
   "source": [
    "Student.__dict__"
   ]
  },
  {
   "cell_type": "code",
   "execution_count": null,
   "metadata": {},
   "outputs": [],
   "source": []
  },
  {
   "cell_type": "markdown",
   "metadata": {},
   "source": [
    "### 새 객체를 만들면 내부에 아무런 속성이 없다.\n",
    "\n",
    "- 런타임에 만든 속성들은 다시 객체를 만들때는 생기지 않는다"
   ]
  },
  {
   "cell_type": "code",
   "execution_count": 8,
   "metadata": {},
   "outputs": [],
   "source": [
    "b = A()"
   ]
  },
  {
   "cell_type": "code",
   "execution_count": 9,
   "metadata": {},
   "outputs": [
    {
     "data": {
      "text/plain": [
       "{}"
      ]
     },
     "execution_count": 9,
     "metadata": {},
     "output_type": "execute_result"
    }
   ],
   "source": [
    "b.__dict__"
   ]
  },
  {
   "cell_type": "markdown",
   "metadata": {},
   "source": [
    "### 객체가 어떤 클래스로 만들어져 있는지 확인을 할때는 type을 사용한다."
   ]
  },
  {
   "cell_type": "code",
   "execution_count": 5,
   "metadata": {},
   "outputs": [
    {
     "data": {
      "text/plain": [
       "__main__.A"
      ]
     },
     "execution_count": 5,
     "metadata": {},
     "output_type": "execute_result"
    }
   ],
   "source": [
    "type(a)"
   ]
  },
  {
   "cell_type": "markdown",
   "metadata": {},
   "source": [
    "## 1.2 클래스 멤버 정의 : 속성  \n",
    "\n",
    "- 클래스 내부에 객체가 생성될 때 상태를 관리하는 속성을 정의할 수 있다.\n",
    "- 클래스 속성은 모든 객체가 공유해서 사용한다. \n"
   ]
  },
  {
   "cell_type": "markdown",
   "metadata": {},
   "source": [
    "### 클래스가 관리하는 속성을 정의 \n",
    "\n",
    "- 속성에는 클래스가 관리하는 속성과 객체가 관리하는 속성을 구분한다. \n"
   ]
  },
  {
   "cell_type": "code",
   "execution_count": 348,
   "metadata": {},
   "outputs": [],
   "source": [
    "class AAA :\n",
    "    count = 0 # 로컬속성,  AAA의 카운트 값\n",
    "    def __init__(self,count) : # 객체 속성만들어주는 기능 \n",
    "        self.count += 1 # self. 을 통해 객체에 접근, 클래스의 카운트 값을 가지고 온다. a의 카운트\n",
    "        print(locals())"
   ]
  },
  {
   "cell_type": "code",
   "execution_count": 349,
   "metadata": {},
   "outputs": [
    {
     "name": "stdout",
     "output_type": "stream",
     "text": [
      "{'self': <__main__.AAA object at 0x7fc4dca77ca0>, 'count': 2}\n"
     ]
    }
   ],
   "source": [
    "# a의 카운트값\n",
    "a = AAA(2)"
   ]
  },
  {
   "cell_type": "code",
   "execution_count": 350,
   "metadata": {},
   "outputs": [
    {
     "data": {
      "text/plain": [
       "0"
      ]
     },
     "execution_count": 350,
     "metadata": {},
     "output_type": "execute_result"
    }
   ],
   "source": [
    "AAA.count"
   ]
  },
  {
   "cell_type": "code",
   "execution_count": 351,
   "metadata": {},
   "outputs": [
    {
     "data": {
      "text/plain": [
       "mappingproxy({'__module__': '__main__',\n",
       "              'count': 0,\n",
       "              '__init__': <function __main__.AAA.__init__(self, count)>,\n",
       "              '__dict__': <attribute '__dict__' of 'AAA' objects>,\n",
       "              '__weakref__': <attribute '__weakref__' of 'AAA' objects>,\n",
       "              '__doc__': None})"
      ]
     },
     "execution_count": 351,
     "metadata": {},
     "output_type": "execute_result"
    }
   ],
   "source": [
    "AAA.__dict__"
   ]
  },
  {
   "cell_type": "code",
   "execution_count": 352,
   "metadata": {},
   "outputs": [
    {
     "data": {
      "text/plain": [
       "1"
      ]
     },
     "execution_count": 352,
     "metadata": {},
     "output_type": "execute_result"
    }
   ],
   "source": [
    "a.count"
   ]
  },
  {
   "cell_type": "code",
   "execution_count": 353,
   "metadata": {},
   "outputs": [
    {
     "data": {
      "text/plain": [
       "{'count': 1}"
      ]
     },
     "execution_count": 353,
     "metadata": {},
     "output_type": "execute_result"
    }
   ],
   "source": [
    "a.__dict__"
   ]
  },
  {
   "cell_type": "code",
   "execution_count": null,
   "metadata": {},
   "outputs": [],
   "source": []
  },
  {
   "cell_type": "code",
   "execution_count": 380,
   "metadata": {},
   "outputs": [],
   "source": [
    "def add(x,y) :\n",
    "    return x+y"
   ]
  },
  {
   "cell_type": "code",
   "execution_count": 18,
   "metadata": {},
   "outputs": [],
   "source": [
    "# 객체 속성안에 함수를 저장할 수 있다.\n",
    "class Func : # 클래스 속성 (객체속성을 만들 수 있다.)\n",
    "    # 함수 = 객체 ? 함수는 어디든 정의할 수 있다.\n",
    "    def __init__(self, func) : # 함수 객체를 일반 객체처럼 func로 변수 설정하고 할당을 해놨다. (객체속성)\n",
    "        self.func = func # 메소드는 아니고, 함수를 강제로 실행시킨 것."
   ]
  },
  {
   "cell_type": "code",
   "execution_count": 19,
   "metadata": {},
   "outputs": [],
   "source": [
    "# Class 도 데코레이터가 가능하다.\n",
    "@Func\n",
    "def mul(x,y) :\n",
    "    return x*y"
   ]
  },
  {
   "cell_type": "code",
   "execution_count": null,
   "metadata": {},
   "outputs": [],
   "source": []
  },
  {
   "cell_type": "code",
   "execution_count": 20,
   "metadata": {},
   "outputs": [],
   "source": [
    "class A_ :\n",
    "    name = 1000"
   ]
  },
  {
   "cell_type": "code",
   "execution_count": 21,
   "metadata": {},
   "outputs": [
    {
     "data": {
      "text/plain": [
       "1000"
      ]
     },
     "execution_count": 21,
     "metadata": {},
     "output_type": "execute_result"
    }
   ],
   "source": [
    "A_.name"
   ]
  },
  {
   "cell_type": "code",
   "execution_count": null,
   "metadata": {},
   "outputs": [],
   "source": []
  },
  {
   "cell_type": "code",
   "execution_count": 22,
   "metadata": {},
   "outputs": [],
   "source": [
    "class image :\n",
    "    def __init__(self, chature) :\n",
    "        self.capture = capture"
   ]
  },
  {
   "cell_type": "code",
   "execution_count": 23,
   "metadata": {},
   "outputs": [],
   "source": [
    "i = image"
   ]
  },
  {
   "cell_type": "code",
   "execution_count": 24,
   "metadata": {},
   "outputs": [
    {
     "data": {
      "text/plain": [
       "<function __main__.image.__init__(self, chature)>"
      ]
     },
     "execution_count": 24,
     "metadata": {},
     "output_type": "execute_result"
    }
   ],
   "source": [
    "i.__init__"
   ]
  },
  {
   "cell_type": "code",
   "execution_count": null,
   "metadata": {},
   "outputs": [],
   "source": []
  },
  {
   "cell_type": "code",
   "execution_count": null,
   "metadata": {},
   "outputs": [],
   "source": []
  },
  {
   "cell_type": "code",
   "execution_count": null,
   "metadata": {},
   "outputs": [],
   "source": []
  },
  {
   "cell_type": "markdown",
   "metadata": {},
   "source": [
    "### 클래스 네임스페이스 보기 \n",
    "\n",
    "- 클래스가 정의되면 하나의 네임스페이스를 관리한다.\n",
    "- 클래스가 정의될 때 관리할 식별자를 네임스페이스에 저장해서 관리한다. "
   ]
  },
  {
   "cell_type": "code",
   "execution_count": 8,
   "metadata": {},
   "outputs": [
    {
     "data": {
      "text/plain": [
       "mappingproxy({'__module__': '__main__',\n",
       "              '__dict__': <attribute '__dict__' of 'A' objects>,\n",
       "              '__weakref__': <attribute '__weakref__' of 'A' objects>,\n",
       "              '__doc__': None})"
      ]
     },
     "execution_count": 8,
     "metadata": {},
     "output_type": "execute_result"
    }
   ],
   "source": [
    "A.__dict__"
   ]
  },
  {
   "cell_type": "markdown",
   "metadata": {},
   "source": [
    "### 속성이나 메소드는 전부 이름으로만 관리\n",
    "- 일반적으로 속성만 있다.\n",
    "- 메소드는 그 속성의 객체가 함수인 경우 메소드로 변환해 준다."
   ]
  },
  {
   "cell_type": "code",
   "execution_count": 4,
   "metadata": {},
   "outputs": [],
   "source": [
    "class A__ :\n",
    "    name = 1000\n",
    "    def __int__(self,name) :\n",
    "        self.name = name\n",
    "        \n",
    "    def getName(self) :\n",
    "        return self.name"
   ]
  },
  {
   "cell_type": "code",
   "execution_count": 5,
   "metadata": {},
   "outputs": [
    {
     "data": {
      "text/plain": [
       "mappingproxy({'__module__': '__main__',\n",
       "              'name': 1000,\n",
       "              '__int__': <function __main__.A__.__int__(self, name)>,\n",
       "              'getName': <function __main__.A__.getName(self)>,\n",
       "              '__dict__': <attribute '__dict__' of 'A__' objects>,\n",
       "              '__weakref__': <attribute '__weakref__' of 'A__' objects>,\n",
       "              '__doc__': None})"
      ]
     },
     "execution_count": 5,
     "metadata": {},
     "output_type": "execute_result"
    }
   ],
   "source": [
    "A__.__dict__"
   ]
  },
  {
   "cell_type": "code",
   "execution_count": 7,
   "metadata": {},
   "outputs": [
    {
     "data": {
      "text/plain": [
       "<function __main__.A__.getName(self)>"
      ]
     },
     "execution_count": 7,
     "metadata": {},
     "output_type": "execute_result"
    }
   ],
   "source": [
    "A__.getName"
   ]
  },
  {
   "cell_type": "code",
   "execution_count": null,
   "metadata": {},
   "outputs": [],
   "source": []
  },
  {
   "cell_type": "markdown",
   "metadata": {},
   "source": [
    "## 1.3 인스턴스 속성 정의 \n",
    "\n",
    "- 객체를 만들어서 메모리에 저장하면 인스턴스라고 부른다.\n",
    "- 인스턴스 속성은 객체마다 상태를 저장하는 정보이다.\n",
    "- 인스턴스 속성은 __init__ 메소드 내부에 정의한다.\n"
   ]
  },
  {
   "cell_type": "markdown",
   "metadata": {},
   "source": [
    "###  클래스 내에 인스턴스 속성 정의 : __init__ 내부에\n",
    "\n",
    "- `__init__` 내에 정의된  것만 인스턴스의 속성\n",
    "- 먼저 객체가 만들어지므로 self 다음에 점연산자 속성명을 넣어서 정의한다.\n"
   ]
  },
  {
   "cell_type": "code",
   "execution_count": 9,
   "metadata": {},
   "outputs": [],
   "source": [
    "class A_1:\n",
    "    def __init__(self, a, b):\n",
    "        self.a = a\n",
    "        self.b = b\n",
    "    "
   ]
  },
  {
   "cell_type": "markdown",
   "metadata": {},
   "source": [
    "### 생성자를 사용해서 하나의 객체를 만든다.\n",
    "- 객체 생성자의 매개변수에 데이터를 넣을 때는  self를 제외한 나머지 인자\n"
   ]
  },
  {
   "cell_type": "code",
   "execution_count": 10,
   "metadata": {},
   "outputs": [],
   "source": [
    "a1 = A_1(1, 2)"
   ]
  },
  {
   "cell_type": "markdown",
   "metadata": {},
   "source": [
    "### 객체의 속성을 접근할 때는 점연산자를 사용한다,\n",
    "\n",
    "- 클래스나 객체는 별도의 네임스페이스가 존재한다. \n",
    "- 클래스나 객체의 네임스페이스를 접근할 때는 점연산자를 사용한다."
   ]
  },
  {
   "cell_type": "code",
   "execution_count": 11,
   "metadata": {},
   "outputs": [
    {
     "data": {
      "text/plain": [
       "{'a': 1, 'b': 2}"
      ]
     },
     "execution_count": 11,
     "metadata": {},
     "output_type": "execute_result"
    }
   ],
   "source": [
    "a1.__dict__"
   ]
  },
  {
   "cell_type": "code",
   "execution_count": 12,
   "metadata": {},
   "outputs": [
    {
     "data": {
      "text/plain": [
       "(1, 2)"
      ]
     },
     "execution_count": 12,
     "metadata": {},
     "output_type": "execute_result"
    }
   ],
   "source": [
    "a1.a, a1.b"
   ]
  },
  {
   "cell_type": "markdown",
   "metadata": {},
   "source": [
    "### 클래스 네임스페이스 보기\n",
    "\n",
    "- 클래스에 정의된 초기화 메소드를 볼수 있다.\n",
    "- 클래스 내부에 정의된 것은 함수인 것을 알 수 있다.\n"
   ]
  },
  {
   "cell_type": "code",
   "execution_count": 665,
   "metadata": {},
   "outputs": [
    {
     "ename": "NameError",
     "evalue": "name 'A_1' is not defined",
     "output_type": "error",
     "traceback": [
      "\u001b[0;31m---------------------------------------------------------------------------\u001b[0m",
      "\u001b[0;31mNameError\u001b[0m                                 Traceback (most recent call last)",
      "\u001b[0;32m<ipython-input-665-43d94a631cc7>\u001b[0m in \u001b[0;36m<module>\u001b[0;34m\u001b[0m\n\u001b[0;32m----> 1\u001b[0;31m \u001b[0mA_1\u001b[0m\u001b[0;34m.\u001b[0m\u001b[0m__dict__\u001b[0m\u001b[0;34m\u001b[0m\u001b[0;34m\u001b[0m\u001b[0m\n\u001b[0m",
      "\u001b[0;31mNameError\u001b[0m: name 'A_1' is not defined"
     ]
    }
   ],
   "source": [
    "A_1.__dict__"
   ]
  },
  {
   "cell_type": "markdown",
   "metadata": {},
   "source": [
    "# 2. 클래스 생성자  : \n",
    "\n",
    "- 상황 : 인스턴스 생성\n",
    "\n",
    "-  instance = Class()\n",
    "\n",
    "- 호출순서\n",
    "\n",
    "> `__call__` : `in type`   \n",
    "> `__new__` : 인스턴스 생성해서 리턴    \n",
    "> `__init__` : instance 초기화    "
   ]
  },
  {
   "cell_type": "code",
   "execution_count": 666,
   "metadata": {},
   "outputs": [
    {
     "data": {
      "text/plain": [
       "type"
      ]
     },
     "execution_count": 666,
     "metadata": {},
     "output_type": "execute_result"
    }
   ],
   "source": [
    "type(classmethod.__class__)"
   ]
  },
  {
   "cell_type": "code",
   "execution_count": 667,
   "metadata": {},
   "outputs": [
    {
     "name": "stdout",
     "output_type": "stream",
     "text": [
      "<class 'classmethod'>\n"
     ]
    }
   ],
   "source": [
    "print(classmethod)"
   ]
  },
  {
   "cell_type": "code",
   "execution_count": 710,
   "metadata": {},
   "outputs": [],
   "source": [
    "class Klass :\n",
    "    @classmethod \n",
    "    # 클래스 메소드는 메소드로 정의되며 클래스로 반환된다.\n",
    "    # 골뱅이로 지정을 안해주면 함수로 처리되서 메소드가 아니다.\n",
    "    # 객체지향이니깐 메소드 단위로 많이 쓰도록 설계되어있다.\n",
    "    # 클래스메소드는 직접 정의해서 새로운것을 만들 수 있다.\n",
    "    def method(cls) :\n",
    "        return \"class method\"\n",
    "    \n",
    "    def get(self):\n",
    "        return \"object method\"\n",
    "    # 객체가 get 했을 때, method로 씌워버린다.\n",
    "    \n",
    "    @staticmethod\n",
    "    def add(x,y) :\n",
    "        return x + y\n",
    "    # 함수는 self는 없고, 매개변수만 넣어서 실행한다.\n",
    "    # 스태틱 메소드는 메소드로 정의 되어있지만 기존값인 함수를 반환한다.\n",
    "    # 객체의 속성에 함수를 그대로 반환해준다."
   ]
  },
  {
   "cell_type": "code",
   "execution_count": 711,
   "metadata": {},
   "outputs": [
    {
     "data": {
      "text/plain": [
       "mappingproxy({'__module__': '__main__',\n",
       "              'method': <classmethod at 0x7fc4de414520>,\n",
       "              'get': <function __main__.Klass.get(self)>,\n",
       "              'add': <staticmethod at 0x7fc4de414340>,\n",
       "              '__dict__': <attribute '__dict__' of 'Klass' objects>,\n",
       "              '__weakref__': <attribute '__weakref__' of 'Klass' objects>,\n",
       "              '__doc__': None})"
      ]
     },
     "execution_count": 711,
     "metadata": {},
     "output_type": "execute_result"
    }
   ],
   "source": [
    "Klass.__dict__"
   ]
  },
  {
   "cell_type": "code",
   "execution_count": 718,
   "metadata": {},
   "outputs": [],
   "source": [
    "kk = Klass()\n",
    "# 객체가 지정된 순간 함수가 되었다."
   ]
  },
  {
   "cell_type": "code",
   "execution_count": 719,
   "metadata": {},
   "outputs": [
    {
     "data": {
      "text/plain": [
       "<function __main__.Klass.add(x, y)>"
      ]
     },
     "execution_count": 719,
     "metadata": {},
     "output_type": "execute_result"
    }
   ],
   "source": [
    "kk.add"
   ]
  },
  {
   "cell_type": "code",
   "execution_count": 720,
   "metadata": {},
   "outputs": [
    {
     "data": {
      "text/plain": [
       "300"
      ]
     },
     "execution_count": 720,
     "metadata": {},
     "output_type": "execute_result"
    }
   ],
   "source": [
    "kk.add(100, 200)\n",
    "\n",
    "# add는 함수다.\n",
    "# 스태틱 메소드는 함수로 반환한다."
   ]
  },
  {
   "cell_type": "code",
   "execution_count": 721,
   "metadata": {},
   "outputs": [
    {
     "data": {
      "text/plain": [
       "400"
      ]
     },
     "execution_count": 721,
     "metadata": {},
     "output_type": "execute_result"
    }
   ],
   "source": [
    "Klass.add(200,200)"
   ]
  },
  {
   "cell_type": "code",
   "execution_count": 722,
   "metadata": {},
   "outputs": [
    {
     "data": {
      "text/plain": [
       "<function __main__.Klass.method(cls)>"
      ]
     },
     "execution_count": 722,
     "metadata": {},
     "output_type": "execute_result"
    }
   ],
   "source": [
    "Klass.method.__func__ \n",
    "    # 클래스메소드가 객체이기 때문에, 이 객체 안에 속성으로 함수가 들어있다."
   ]
  },
  {
   "cell_type": "code",
   "execution_count": 723,
   "metadata": {},
   "outputs": [
    {
     "data": {
      "text/plain": [
       "<function __main__.Klass.method(cls)>"
      ]
     },
     "execution_count": 723,
     "metadata": {},
     "output_type": "execute_result"
    }
   ],
   "source": [
    "Klass.method.__func__\n",
    "# "
   ]
  },
  {
   "cell_type": "code",
   "execution_count": 700,
   "metadata": {},
   "outputs": [],
   "source": [
    "    # 함수내에서 클래스 메소드 객체로 만들어 준 것이다.\n",
    "    # . 연산자는 자신이 가지고 있는 속성을 사용할 때만 사용이 가능하다.\n",
    "    # 클래스내에 클래스의 메소드객체(함수)를 만들 때, \n",
    "    # 자동으로 바뀌지 않아서 class내에 객체를 메소드로 변경해줘야한다.\n",
    "    # 메소드 클래스의 객체가 메소드인데, 메소드 클래스의 객체를 만드는데 \n",
    "    # 내가 쓰는 함수는 그 안에 속성으로 집어 넣어야 한다.\n",
    "    # 클래스 메소드가 클래스인데, 클래스 메소드 안에 객체를 넣어준다. 그때 함수를 속성으로 넣어주는 것.\n",
    "    # Class = 객체를 만든다.\n",
    "    # Func = func객체를 만든다.\n",
    "    # method (함수를 인자로 받는다) = method객체를 만든다.\n",
    "    # 일반 메소드는 자동으로 해주는데, 클래스 메소드는 수동으로 클래스제공을 해줘야 한다.\n",
    "    # 클래스가 접근해서 사용하려면 @classmethod를 사용해서 접근을 해야한다."
   ]
  },
  {
   "cell_type": "code",
   "execution_count": 687,
   "metadata": {},
   "outputs": [],
   "source": [
    "k = Klass()"
   ]
  },
  {
   "cell_type": "code",
   "execution_count": 597,
   "metadata": {},
   "outputs": [
    {
     "data": {
      "text/plain": [
       "'class method'"
      ]
     },
     "execution_count": 597,
     "metadata": {},
     "output_type": "execute_result"
    }
   ],
   "source": [
    "Klass.method.__func__(Klass)"
   ]
  },
  {
   "cell_type": "code",
   "execution_count": 598,
   "metadata": {
    "scrolled": true
   },
   "outputs": [
    {
     "data": {
      "text/plain": [
       "<function __main__.Klass.get(self)>"
      ]
     },
     "execution_count": 598,
     "metadata": {},
     "output_type": "execute_result"
    }
   ],
   "source": [
    "k.get.__func__"
   ]
  },
  {
   "cell_type": "code",
   "execution_count": 602,
   "metadata": {},
   "outputs": [
    {
     "data": {
      "text/plain": [
       "'object method'"
      ]
     },
     "execution_count": 602,
     "metadata": {},
     "output_type": "execute_result"
    }
   ],
   "source": [
    "# k = 객체를 꼭 넣어주어야 한다.\n",
    "Klass.get(k)"
   ]
  },
  {
   "cell_type": "code",
   "execution_count": 599,
   "metadata": {},
   "outputs": [
    {
     "data": {
      "text/plain": [
       "'class method'"
      ]
     },
     "execution_count": 599,
     "metadata": {},
     "output_type": "execute_result"
    }
   ],
   "source": [
    "k.method()"
   ]
  },
  {
   "cell_type": "code",
   "execution_count": 600,
   "metadata": {},
   "outputs": [
    {
     "data": {
      "text/plain": [
       "'class method'"
      ]
     },
     "execution_count": 600,
     "metadata": {},
     "output_type": "execute_result"
    }
   ],
   "source": [
    "Klass.method() # 에러이유? 매개변수값을 넣어주지 않아서 오류가 발생.\n",
    "# 클래스메소드를 데코해줌으로써 클래스메소드가 나오도록 한다."
   ]
  },
  {
   "cell_type": "code",
   "execution_count": null,
   "metadata": {},
   "outputs": [],
   "source": []
  },
  {
   "cell_type": "code",
   "execution_count": 502,
   "metadata": {},
   "outputs": [],
   "source": [
    "def klassmethod(cls) :\n",
    "    return \"class method\""
   ]
  },
  {
   "cell_type": "code",
   "execution_count": 503,
   "metadata": {},
   "outputs": [],
   "source": [
    "class Klass :\n",
    "    klassmethod = classmethod(klassmethod)\n",
    "    \n",
    "    # 클래스에서 매개변수가 하나일 때 객체를 만든 것. (바로위 코드)"
   ]
  },
  {
   "cell_type": "code",
   "execution_count": null,
   "metadata": {},
   "outputs": [],
   "source": []
  },
  {
   "cell_type": "markdown",
   "metadata": {},
   "source": [
    "## 클래스메소드 정리"
   ]
  },
  {
   "cell_type": "code",
   "execution_count": 561,
   "metadata": {},
   "outputs": [],
   "source": [
    "def add(x,y) :\n",
    "    return x+y"
   ]
  },
  {
   "cell_type": "code",
   "execution_count": 562,
   "metadata": {},
   "outputs": [],
   "source": [
    "class Method :\n",
    "    def __init__(self, func) :\n",
    "        self.__func__ = func\n",
    "        self.__self__ = self\n",
    "    \n",
    "    # 호출연산자 = add 함수를 호출한다. ex) add.__call__(10,10)\n",
    "    \n",
    "    def __call__(self, *args) :\n",
    "        print(\"Method call\")\n",
    "        return self.__func__(*args) # 함수가 실행된다.\n",
    "    \n",
    "    # 메소드 클래스 껍데기를 만들어서 메소드 객체를 집어넣는다."
   ]
  },
  {
   "cell_type": "code",
   "execution_count": 563,
   "metadata": {},
   "outputs": [],
   "source": [
    "add = Method(add) \n",
    "# 메소드 객체를 넣는 과정"
   ]
  },
  {
   "cell_type": "code",
   "execution_count": 564,
   "metadata": {},
   "outputs": [
    {
     "data": {
      "text/plain": [
       "{'__func__': <function __main__.add(x, y)>,\n",
       " '__self__': <__main__.Method at 0x7fc4de67cbe0>}"
      ]
     },
     "execution_count": 564,
     "metadata": {},
     "output_type": "execute_result"
    }
   ],
   "source": [
    "add.__dict__"
   ]
  },
  {
   "cell_type": "code",
   "execution_count": 565,
   "metadata": {},
   "outputs": [
    {
     "name": "stdout",
     "output_type": "stream",
     "text": [
      "Method call\n"
     ]
    },
    {
     "data": {
      "text/plain": [
       "30"
      ]
     },
     "execution_count": 565,
     "metadata": {},
     "output_type": "execute_result"
    }
   ],
   "source": [
    "add(10,20) \n",
    "# __call__ 호출 연산자와 같은 기능"
   ]
  },
  {
   "cell_type": "code",
   "execution_count": 566,
   "metadata": {},
   "outputs": [],
   "source": [
    "# method 의 객체가 Mul이라는 이름에 셋팅 된 것. 즉, def __call__ 에 mul 이 호출 된 것.\n",
    "@Method\n",
    "def mul(x,y) :\n",
    "    return x*y"
   ]
  },
  {
   "cell_type": "code",
   "execution_count": 567,
   "metadata": {},
   "outputs": [
    {
     "name": "stdout",
     "output_type": "stream",
     "text": [
      "Method call\n"
     ]
    },
    {
     "data": {
      "text/plain": [
       "200"
      ]
     },
     "execution_count": 567,
     "metadata": {},
     "output_type": "execute_result"
    }
   ],
   "source": [
    "mul(10,20)"
   ]
  },
  {
   "cell_type": "code",
   "execution_count": 513,
   "metadata": {},
   "outputs": [
    {
     "ename": "NameError",
     "evalue": "name '__call__' is not defined",
     "output_type": "error",
     "traceback": [
      "\u001b[0;31m---------------------------------------------------------------------------\u001b[0m",
      "\u001b[0;31mNameError\u001b[0m                                 Traceback (most recent call last)",
      "\u001b[0;32m<ipython-input-513-4ab8d4134dfb>\u001b[0m in \u001b[0;36m<module>\u001b[0;34m\u001b[0m\n\u001b[0;32m----> 1\u001b[0;31m \u001b[0m__call__\u001b[0m\u001b[0;34m.\u001b[0m\u001b[0mdict\u001b[0m\u001b[0;34m\u001b[0m\u001b[0;34m\u001b[0m\u001b[0m\n\u001b[0m",
      "\u001b[0;31mNameError\u001b[0m: name '__call__' is not defined"
     ]
    }
   ],
   "source": [
    "__call__.dict"
   ]
  },
  {
   "cell_type": "code",
   "execution_count": null,
   "metadata": {},
   "outputs": [],
   "source": []
  },
  {
   "cell_type": "markdown",
   "metadata": {},
   "source": [
    "## 2.1 객체 생성자 처리 : `__new__`\n",
    "\n",
    "- 자바 등의 언어에서 new 연산자와 동일한 역할을 한다.\n",
    "- 일단 객체만 생성한다.\n"
   ]
  },
  {
   "cell_type": "markdown",
   "metadata": {},
   "source": [
    "###  생성자 연산자 알아보기\n",
    "\n",
    "- 클래스에 __new__  함수 정의\n",
    "- __new__  내부 로직은 항상 어떠한 속성도 없는 객체만 생성한다"
   ]
  },
  {
   "cell_type": "code",
   "execution_count": 741,
   "metadata": {},
   "outputs": [],
   "source": [
    "class B:\n",
    "    @classmethod\n",
    "    def method(cls):\n",
    "        pass\n",
    "\n",
    "    def __new__(cls):\n",
    "        print(\"new\")\n",
    "        return super().__new__(cls)\n",
    "    \n",
    "    # __new__로 객체를 만들고, __init__의 __self__를 나타낸다. 즉, self 자리로 들어감.\n",
    "    # __init__ (생성자)\n",
    "    # 생성자의 키워드 = des\n",
    "    # 파이썬은 생성자를 하나만 정의할 수 있다. init, new 둘 중 하나 사용해야함."
   ]
  },
  {
   "cell_type": "code",
   "execution_count": 742,
   "metadata": {},
   "outputs": [
    {
     "data": {
      "text/plain": [
       "mappingproxy({'__module__': '__main__',\n",
       "              'method': <classmethod at 0x7fc4de1b49d0>,\n",
       "              '__new__': <staticmethod at 0x7fc4de1b4940>,\n",
       "              '__dict__': <attribute '__dict__' of 'B' objects>,\n",
       "              '__weakref__': <attribute '__weakref__' of 'B' objects>,\n",
       "              '__doc__': None})"
      ]
     },
     "execution_count": 742,
     "metadata": {},
     "output_type": "execute_result"
    }
   ],
   "source": [
    "B.__dict__"
   ]
  },
  {
   "cell_type": "code",
   "execution_count": 743,
   "metadata": {},
   "outputs": [
    {
     "data": {
      "text/plain": [
       "<function __main__.B.__new__(cls)>"
      ]
     },
     "execution_count": 743,
     "metadata": {},
     "output_type": "execute_result"
    }
   ],
   "source": [
    "B.__new__"
   ]
  },
  {
   "cell_type": "code",
   "execution_count": 735,
   "metadata": {},
   "outputs": [
    {
     "data": {
      "text/plain": [
       "type"
      ]
     },
     "execution_count": 735,
     "metadata": {},
     "output_type": "execute_result"
    }
   ],
   "source": [
    "type(B)"
   ]
  },
  {
   "cell_type": "markdown",
   "metadata": {},
   "source": [
    "### 객체를 생성하면 __new__ 메소드가 자동으로 실행"
   ]
  },
  {
   "cell_type": "code",
   "execution_count": 734,
   "metadata": {},
   "outputs": [
    {
     "name": "stdout",
     "output_type": "stream",
     "text": [
      "new\n"
     ]
    }
   ],
   "source": [
    "b = B()\n",
    "# () = __call__"
   ]
  },
  {
   "cell_type": "markdown",
   "metadata": {},
   "source": [
    "### 클래스 B의 객체 "
   ]
  },
  {
   "cell_type": "code",
   "execution_count": 21,
   "metadata": {},
   "outputs": [
    {
     "data": {
      "text/plain": [
       "(<__main__.B at 0x7fdfbb227510>, __main__.B)"
      ]
     },
     "execution_count": 21,
     "metadata": {},
     "output_type": "execute_result"
    }
   ],
   "source": [
    "b, type(b)"
   ]
  },
  {
   "cell_type": "code",
   "execution_count": 22,
   "metadata": {},
   "outputs": [
    {
     "data": {
      "text/plain": [
       "True"
      ]
     },
     "execution_count": 22,
     "metadata": {},
     "output_type": "execute_result"
    }
   ],
   "source": [
    "isinstance(b,B)"
   ]
  },
  {
   "cell_type": "markdown",
   "metadata": {},
   "source": [
    "## 2.2  호출자 처리 알아보기\n",
    "\n",
    "-  호출연산자는   `__call__` 스페셜 메소드이다.\n",
    "\n",
    "- 클래스 내에 호출연산자를 정의하면 객체를 실행할 수 있다.\n"
   ]
  },
  {
   "cell_type": "markdown",
   "metadata": {},
   "source": [
    "### 클래스 정의"
   ]
  },
  {
   "cell_type": "code",
   "execution_count": 778,
   "metadata": {},
   "outputs": [],
   "source": [
    "class C:\n",
    "    # __call__ : 객체를 실행하겠다. 라는 의미가 정의 되어있다.\n",
    "    def __call__(self,x,y): # instance를 호출할때 실행\n",
    "        # method 는 매개변수 첫 번째에 self를 넣어준다.\n",
    "        print(\"__call__!!!\")\n",
    "        return x+y\n",
    "        # 리턴 add 해서 add 함수와 같은 기능을 가지게 되었다.\n",
    "        # 즉, 메소드 안의 객체도 호출이 가능하다."
   ]
  },
  {
   "cell_type": "markdown",
   "metadata": {},
   "source": [
    "### 호출 연산자는 일반 함수로 표시되므로 인스턴스 메소드"
   ]
  },
  {
   "cell_type": "code",
   "execution_count": 774,
   "metadata": {},
   "outputs": [
    {
     "data": {
      "text/plain": [
       "mappingproxy({'__module__': '__main__',\n",
       "              '__call__': <function __main__.C.__call__(self, x, y)>,\n",
       "              '__dict__': <attribute '__dict__' of 'C' objects>,\n",
       "              '__weakref__': <attribute '__weakref__' of 'C' objects>,\n",
       "              '__doc__': None})"
      ]
     },
     "execution_count": 774,
     "metadata": {},
     "output_type": "execute_result"
    }
   ],
   "source": [
    "C.__dict__"
   ]
  },
  {
   "cell_type": "markdown",
   "metadata": {},
   "source": [
    "### 객체를 생성\n",
    "\n",
    "- 객체란 데이터와 코드를 포함하는 하나의 자료구조\n",
    "- 객체의 데이터와 코드는 하나의 멤버\n",
    "- 파이썬에서는 객체에는 데이터인 속성만 관리\n",
    "- 코드 즉 메소드는 클래스에서  관리"
   ]
  },
  {
   "cell_type": "code",
   "execution_count": 782,
   "metadata": {},
   "outputs": [],
   "source": [
    "c = C()"
   ]
  },
  {
   "cell_type": "code",
   "execution_count": 783,
   "metadata": {
    "scrolled": true
   },
   "outputs": [
    {
     "name": "stdout",
     "output_type": "stream",
     "text": [
      "__call__!!!\n"
     ]
    },
    {
     "data": {
      "text/plain": [
       "30"
      ]
     },
     "execution_count": 783,
     "metadata": {},
     "output_type": "execute_result"
    }
   ],
   "source": [
    "# 객체가 실행 되었다.\n",
    "c(10, 20)\n",
    "\n",
    "# 함수도 객체이기 때문에 파이썬이 모든 객체를 실행할 수 있도록 설계해놓았다."
   ]
  },
  {
   "cell_type": "code",
   "execution_count": null,
   "metadata": {},
   "outputs": [],
   "source": []
  },
  {
   "cell_type": "code",
   "execution_count": 853,
   "metadata": {},
   "outputs": [],
   "source": [
    "class Method :\n",
    "    # 함수를 받기위해 매개변수는 하나만 적어놓는다.\n",
    "    def __init__(self, func) :\n",
    "        self.func = func\n",
    "        \n",
    "    # add를 호출해서 실행해준다.\n",
    "    def __call__(self, *args) :\n",
    "        return self.func(self, *args)\n",
    "    \n",
    "    # 메소드를 생성해놓았다 : 외부인이 쉽게 유추하지 못하도록 사용자만의 메소드를 사용한다.\n",
    "    def method(self) :\n",
    "        print(\"메소드 내의 메소드 호출\")\n",
    "    \n",
    "    def methood(self) :\n",
    "        print(\"나의 첫 메소드\")\n",
    "        \n",
    "    def methhod(self) :\n",
    "        print(\"나의 두 번째 메소드\")"
   ]
  },
  {
   "cell_type": "code",
   "execution_count": 854,
   "metadata": {},
   "outputs": [],
   "source": [
    "class AAA :\n",
    "    @Method\n",
    "    def add(self, x, y) :\n",
    "        return x+y"
   ]
  },
  {
   "cell_type": "code",
   "execution_count": 855,
   "metadata": {},
   "outputs": [],
   "source": [
    "a = AAA()"
   ]
  },
  {
   "cell_type": "code",
   "execution_count": 856,
   "metadata": {},
   "outputs": [
    {
     "data": {
      "text/plain": [
       "70"
      ]
     },
     "execution_count": 856,
     "metadata": {},
     "output_type": "execute_result"
    }
   ],
   "source": [
    "a.add(30,40)"
   ]
  },
  {
   "cell_type": "code",
   "execution_count": 857,
   "metadata": {},
   "outputs": [
    {
     "name": "stdout",
     "output_type": "stream",
     "text": [
      "나의 첫 메소드\n"
     ]
    }
   ],
   "source": [
    "a.add.methood()"
   ]
  },
  {
   "cell_type": "code",
   "execution_count": 858,
   "metadata": {},
   "outputs": [
    {
     "name": "stdout",
     "output_type": "stream",
     "text": [
      "나의 두 번째 메소드\n"
     ]
    }
   ],
   "source": [
    "a.add.methhod()"
   ]
  },
  {
   "cell_type": "code",
   "execution_count": 859,
   "metadata": {},
   "outputs": [
    {
     "data": {
      "text/plain": [
       "mappingproxy({'__module__': '__main__',\n",
       "              'add': <__main__.Method at 0x7fc4de29ee20>,\n",
       "              '__dict__': <attribute '__dict__' of 'AAA' objects>,\n",
       "              '__weakref__': <attribute '__weakref__' of 'AAA' objects>,\n",
       "              '__doc__': None})"
      ]
     },
     "execution_count": 859,
     "metadata": {},
     "output_type": "execute_result"
    }
   ],
   "source": [
    "AAA.__dict__"
   ]
  },
  {
   "cell_type": "code",
   "execution_count": null,
   "metadata": {},
   "outputs": [],
   "source": []
  },
  {
   "cell_type": "code",
   "execution_count": null,
   "metadata": {},
   "outputs": [],
   "source": []
  },
  {
   "cell_type": "code",
   "execution_count": null,
   "metadata": {},
   "outputs": [],
   "source": []
  },
  {
   "cell_type": "code",
   "execution_count": null,
   "metadata": {},
   "outputs": [],
   "source": []
  },
  {
   "cell_type": "markdown",
   "metadata": {},
   "source": [
    "## 2.3  사용자 메타 클래스 정의 \n",
    "\n",
    "- 파이선은 클래스도 객체로 인식한다. 그 이유는 모든 클래스를 메타 클래스로 생성한다.\n",
    "\n",
    "      \n",
    "      "
   ]
  },
  {
   "cell_type": "markdown",
   "metadata": {},
   "source": [
    "## 내장 클래스는 메타 클래스에 의해 만들어졌다.\n",
    "\n",
    "- 기본 메타 클래스는 type"
   ]
  },
  {
   "cell_type": "code",
   "execution_count": 869,
   "metadata": {},
   "outputs": [
    {
     "data": {
      "text/plain": [
       "(True, True)"
      ]
     },
     "execution_count": 869,
     "metadata": {},
     "output_type": "execute_result"
    }
   ],
   "source": [
    "isinstance(int, type), isinstance(object, type)"
   ]
  },
  {
   "cell_type": "markdown",
   "metadata": {},
   "source": [
    "### 메타 클래스는 상속관계가 아니다."
   ]
  },
  {
   "cell_type": "code",
   "execution_count": 893,
   "metadata": {},
   "outputs": [
    {
     "data": {
      "text/plain": [
       "(False, True)"
      ]
     },
     "execution_count": 893,
     "metadata": {},
     "output_type": "execute_result"
    }
   ],
   "source": [
    "# 상속한지 아닌지 확인하는 명령어 issubclass(상속받는비교대상,상속하는비교대상)\n",
    "issubclass(int, type) , issubclass(int, object)"
   ]
  },
  {
   "cell_type": "markdown",
   "metadata": {},
   "source": [
    "### 메타 클래스 내에 호출 연산자 정의 \n",
    "- 기본 메타 클래스를 상속을 받아 사용자 정의 메타 클래스를 만들 수 있다."
   ]
  },
  {
   "cell_type": "code",
   "execution_count": 894,
   "metadata": {},
   "outputs": [],
   "source": [
    "class TypeA(type):\n",
    "    def __call__(cls, *args):\n",
    "        print(\"type call\")"
   ]
  },
  {
   "cell_type": "markdown",
   "metadata": {},
   "source": [
    "### 특정 사용자 메타클래스를 지정하려면 상속표시 내부에 메타클래스를 지정한다"
   ]
  },
  {
   "cell_type": "code",
   "execution_count": 895,
   "metadata": {},
   "outputs": [],
   "source": [
    "# \n",
    "class A(metaclass=TypeA):\n",
    "    pass"
   ]
  },
  {
   "cell_type": "code",
   "execution_count": 900,
   "metadata": {},
   "outputs": [
    {
     "data": {
      "text/plain": [
       "(__main__.TypeA, type)"
      ]
     },
     "execution_count": 900,
     "metadata": {},
     "output_type": "execute_result"
    }
   ],
   "source": [
    "A.__class__, int.__class__"
   ]
  },
  {
   "cell_type": "code",
   "execution_count": 897,
   "metadata": {},
   "outputs": [
    {
     "name": "stdout",
     "output_type": "stream",
     "text": [
      "type call\n"
     ]
    }
   ],
   "source": [
    "# __call__을 호출했다.\n",
    "a = A()"
   ]
  },
  {
   "cell_type": "code",
   "execution_count": 898,
   "metadata": {},
   "outputs": [
    {
     "name": "stdout",
     "output_type": "stream",
     "text": [
      "None\n"
     ]
    }
   ],
   "source": [
    "print(a)"
   ]
  },
  {
   "cell_type": "code",
   "execution_count": null,
   "metadata": {},
   "outputs": [],
   "source": []
  },
  {
   "cell_type": "code",
   "execution_count": null,
   "metadata": {},
   "outputs": [],
   "source": []
  },
  {
   "cell_type": "markdown",
   "metadata": {},
   "source": [
    "###  클래스들은 어느 클래스에 의해 만들어 졌는 지를 확인\n",
    "\n",
    "- 클래스도 객체이므로 자기를 생성한 클래스를 __class__ 속성에 가지고 있다."
   ]
  },
  {
   "cell_type": "code",
   "execution_count": 29,
   "metadata": {},
   "outputs": [
    {
     "data": {
      "text/plain": [
       "__main__.TypeA"
      ]
     },
     "execution_count": 29,
     "metadata": {},
     "output_type": "execute_result"
    }
   ],
   "source": [
    "A.__class__"
   ]
  },
  {
   "cell_type": "markdown",
   "metadata": {},
   "source": [
    "###  메타클래스 지정을 안하면 type 메타클래스가 자동으로 생성함"
   ]
  },
  {
   "cell_type": "code",
   "execution_count": 30,
   "metadata": {},
   "outputs": [],
   "source": [
    "class D :\n",
    "    pass"
   ]
  },
  {
   "cell_type": "code",
   "execution_count": 31,
   "metadata": {},
   "outputs": [
    {
     "data": {
      "text/plain": [
       "type"
      ]
     },
     "execution_count": 31,
     "metadata": {},
     "output_type": "execute_result"
    }
   ],
   "source": [
    "D.__class__"
   ]
  },
  {
   "cell_type": "markdown",
   "metadata": {},
   "source": [
    "### 클래스 생성자는 메타클래스에 있는 '__call__' 호출\n",
    "\n",
    "- 클래스를 실행한다는 것은 클래스를 만든 메타클래스 내의 __call__를 호출하는 것이다.\n",
    "\n"
   ]
  },
  {
   "cell_type": "code",
   "execution_count": 32,
   "metadata": {},
   "outputs": [
    {
     "name": "stdout",
     "output_type": "stream",
     "text": [
      "type call\n"
     ]
    }
   ],
   "source": [
    "A()"
   ]
  },
  {
   "cell_type": "markdown",
   "metadata": {},
   "source": [
    "## 2.4 사용자 메타 클래스로 생성자 초기화 처리\n",
    "\n",
    "    __call__은 인스턴스 메소드 이므로 실제 이 메타 클래스에 의해 만들어지는 사용자 클래스가 호출한다.\n",
    "    "
   ]
  },
  {
   "cell_type": "markdown",
   "metadata": {},
   "source": [
    "### 사용자 메타클래스 내에 생성자와 초기화 처리"
   ]
  },
  {
   "cell_type": "code",
   "execution_count": 931,
   "metadata": {},
   "outputs": [],
   "source": [
    "class TypeB(type):\n",
    "    def __call__(self, *args): \n",
    "        print(\"__call__ in type\")\n",
    "        instance = self.__new__(self)\n",
    "        self.__init__(instance, *args)\n",
    "        return instance"
   ]
  },
  {
   "cell_type": "markdown",
   "metadata": {},
   "source": [
    "### 사용자 정의 클래스에 메타 클래스를 지정\n",
    "\n",
    "      생성자 '__new__' 를 정적 메소드로 정의하고 초기화 '__init__' 를 인스턴스 메소드로 정의\n",
    "    \n",
    "       이 두 메소드는 생성자 호출하면 메타클래스의 __call__ 내에서 호출 됨"
   ]
  },
  {
   "cell_type": "code",
   "execution_count": 937,
   "metadata": {},
   "outputs": [],
   "source": [
    "# 메타클래스에 있는 call을 호출한다. \n",
    "# 메타클래스 = TypeB 클래스\n",
    "class AB(metaclass=TypeB):\n",
    "    def __call__(self):\n",
    "        print( ' A의 인스턴스 ')  # instance()\n",
    "    \n",
    "    def __new__(cls):\n",
    "        print(\"__new__ in A\")\n",
    "        return super().__new__(cls) # object\n",
    "    \n",
    "    def __init__(self, x, y, z):\n",
    "        print('__init__ in A')\n",
    "        self.x = x\n",
    "        self.y = y\n",
    "        self.z = z"
   ]
  },
  {
   "cell_type": "code",
   "execution_count": 944,
   "metadata": {},
   "outputs": [
    {
     "name": "stdout",
     "output_type": "stream",
     "text": [
      "__call__ in type\n",
      "__new__ in A\n",
      "__init__ in A\n"
     ]
    }
   ],
   "source": [
    "# 오버라이딩으로 인해 TypeB 클래스의 call을 호출한다.\n",
    "# 호출연산을 실행하면 어디에 있는지 확인한다.\n",
    "# 클래스에서 속성을 접근하면 메타클래스(상위타입, 클래스)의 것을 실행한다.\n",
    "# 같은 이름의 속성으로 만들어야 상속을 할 수 있다.\n",
    "ab = AB(1, 2, 3)"
   ]
  },
  {
   "cell_type": "code",
   "execution_count": 939,
   "metadata": {},
   "outputs": [
    {
     "data": {
      "text/plain": [
       "<__main__.AB at 0x7fc4decc1490>"
      ]
     },
     "execution_count": 939,
     "metadata": {},
     "output_type": "execute_result"
    }
   ],
   "source": [
    "ab"
   ]
  },
  {
   "cell_type": "code",
   "execution_count": 941,
   "metadata": {},
   "outputs": [
    {
     "name": "stdout",
     "output_type": "stream",
     "text": [
      " A의 인스턴스 \n"
     ]
    }
   ],
   "source": [
    "# 객체는 자신이 상속받은 클래스의 속성(__call__)을 실행한다.\n",
    "ab()"
   ]
  },
  {
   "cell_type": "markdown",
   "metadata": {},
   "source": [
    "## 2.5 싱글턴 패턴 처리\n",
    "\n",
    "- 하나의 객체만 만드는 클래스 정의하기\n",
    "\n",
    "-   메타클래스 정의할 때 클래스가 호출되는 '__call__' 메소드 내에 \n",
    "-  사용자 클래스에 _instance 속성이 있으면 사용자 클래스에 저장된 인스턴스를 반환"
   ]
  },
  {
   "cell_type": "markdown",
   "metadata": {},
   "source": [
    "### 메타 클래스 즉 클래스가 호출하는 영역을 정의\n",
    "\n",
    "- 특정 객체 하나만 존재하도록 코드 추가\n",
    "- 객체가 하나만 존재하도록 반환값 수정"
   ]
  },
  {
   "cell_type": "code",
   "execution_count": 39,
   "metadata": {},
   "outputs": [],
   "source": [
    "class TypeC(type):\n",
    "    def __call__(self, *args):\n",
    "        print(\"__call__ in type\")\n",
    "        if hasattr(self, '_instance'):\n",
    "            return self._instance\n",
    "        \n",
    "        instance = self.__new__(self)\n",
    "        self.__init__(instance, *args)\n",
    "        return instance"
   ]
  },
  {
   "cell_type": "markdown",
   "metadata": {},
   "source": [
    "### 사용자 정의 클래스 지정시 cls._instance (클래스 속성)에 처음으로 생성되는 인스턴스를 저장한다."
   ]
  },
  {
   "cell_type": "code",
   "execution_count": 40,
   "metadata": {},
   "outputs": [],
   "source": [
    "class AC(metaclass=TypeC):\n",
    "    def __call__(self):\n",
    "        pass # instance()\n",
    "    \n",
    "    def __new__(cls):\n",
    "        print(\"__new__ in A\")\n",
    "        instance = super().__new__(cls) \n",
    "        cls._instance = instance\n",
    "        return instance\n",
    "    \n",
    "    def __init__(self, x, y, z):\n",
    "        print('__init__ in A')\n",
    "        self.x = x\n",
    "        self.y = y\n",
    "        self.z = z"
   ]
  },
  {
   "cell_type": "markdown",
   "metadata": {},
   "source": [
    "### 인스턴스 생성 하면 항상 동일한 인스턴스만 반환한다"
   ]
  },
  {
   "cell_type": "code",
   "execution_count": 41,
   "metadata": {},
   "outputs": [
    {
     "name": "stdout",
     "output_type": "stream",
     "text": [
      "__call__ in type\n",
      "__new__ in A\n",
      "__init__ in A\n"
     ]
    }
   ],
   "source": [
    "ac = AC(1, 2, 3)"
   ]
  },
  {
   "cell_type": "code",
   "execution_count": 42,
   "metadata": {},
   "outputs": [
    {
     "name": "stdout",
     "output_type": "stream",
     "text": [
      "__call__ in type\n"
     ]
    }
   ],
   "source": [
    "bc = AC(4, 5, 6)"
   ]
  },
  {
   "cell_type": "code",
   "execution_count": 43,
   "metadata": {},
   "outputs": [
    {
     "data": {
      "text/plain": [
       "(1, 2, 3)"
      ]
     },
     "execution_count": 43,
     "metadata": {},
     "output_type": "execute_result"
    }
   ],
   "source": [
    "bc.x, bc.y, bc.z"
   ]
  },
  {
   "cell_type": "code",
   "execution_count": 44,
   "metadata": {},
   "outputs": [
    {
     "data": {
      "text/plain": [
       "True"
      ]
     },
     "execution_count": 44,
     "metadata": {},
     "output_type": "execute_result"
    }
   ],
   "source": [
    "ac is bc # is 는 동일한 객체인지"
   ]
  },
  {
   "cell_type": "markdown",
   "metadata": {},
   "source": [
    "# 3.  method 알아보기\n",
    "\n",
    "- 객체나 클래스가 사용할 수 있는 행위.\n",
    "- 파이썬은 클래스에 함수를 정의하다. 객체가 사용할 때 메소드로 전환된다.\n",
    "\n"
   ]
  },
  {
   "cell_type": "markdown",
   "metadata": {},
   "source": [
    "## 3.1  인스턴스 메소드\n",
    "\n",
    "- 객체 주로 사용하는 메소드"
   ]
  },
  {
   "cell_type": "markdown",
   "metadata": {},
   "source": [
    "####  클래스 내에 함수가 정의 되면 메소드로 인식"
   ]
  },
  {
   "cell_type": "code",
   "execution_count": 45,
   "metadata": {},
   "outputs": [],
   "source": [
    "class A:\n",
    "    def bbb(self):\n",
    "        print('bbb')"
   ]
  },
  {
   "cell_type": "markdown",
   "metadata": {},
   "source": [
    "#### 인스턴스를 만든다"
   ]
  },
  {
   "cell_type": "code",
   "execution_count": 46,
   "metadata": {},
   "outputs": [],
   "source": [
    "a = A()"
   ]
  },
  {
   "cell_type": "markdown",
   "metadata": {},
   "source": [
    "#### 인스턴스에는 메소드를 관리하지 않는다. 메소드는 클래스 내에만 있다"
   ]
  },
  {
   "cell_type": "code",
   "execution_count": 47,
   "metadata": {},
   "outputs": [
    {
     "data": {
      "text/plain": [
       "{}"
      ]
     },
     "execution_count": 47,
     "metadata": {},
     "output_type": "execute_result"
    }
   ],
   "source": [
    "a.__dict__"
   ]
  },
  {
   "cell_type": "markdown",
   "metadata": {},
   "source": [
    "#### 인스턴스를 가지고 메소드를 실행"
   ]
  },
  {
   "cell_type": "code",
   "execution_count": 48,
   "metadata": {},
   "outputs": [
    {
     "name": "stdout",
     "output_type": "stream",
     "text": [
      "bbb\n"
     ]
    }
   ],
   "source": [
    "a.bbb()"
   ]
  },
  {
   "cell_type": "markdown",
   "metadata": {},
   "source": [
    "#### 클래스 내에 메소드가 있음"
   ]
  },
  {
   "cell_type": "code",
   "execution_count": 49,
   "metadata": {},
   "outputs": [
    {
     "data": {
      "text/plain": [
       "mappingproxy({'__module__': '__main__',\n",
       "              'bbb': <function __main__.A.bbb(self)>,\n",
       "              '__dict__': <attribute '__dict__' of 'A' objects>,\n",
       "              '__weakref__': <attribute '__weakref__' of 'A' objects>,\n",
       "              '__doc__': None})"
      ]
     },
     "execution_count": 49,
     "metadata": {},
     "output_type": "execute_result"
    }
   ],
   "source": [
    "A.__dict__"
   ]
  },
  {
   "cell_type": "code",
   "execution_count": 50,
   "metadata": {},
   "outputs": [
    {
     "name": "stdout",
     "output_type": "stream",
     "text": [
      "bbb\n"
     ]
    }
   ],
   "source": [
    "A.bbb(a)"
   ]
  },
  {
   "cell_type": "code",
   "execution_count": null,
   "metadata": {},
   "outputs": [],
   "source": []
  },
  {
   "cell_type": "markdown",
   "metadata": {},
   "source": [
    "## 3.2  클래스 메소드\n",
    "\n",
    "- 클래스에서 사용할 수 있는 메소드\n",
    "- 파이썬에서는 객체도 클래스 메소드를 사용할 수 있다.\n",
    "- 왜냐하면 정적 영역 즉 클래스만 직접 접근하는 영역이 존재하지 않는다."
   ]
  },
  {
   "cell_type": "markdown",
   "metadata": {},
   "source": [
    "### 클래스 메소드 정의 "
   ]
  },
  {
   "cell_type": "code",
   "execution_count": 51,
   "metadata": {},
   "outputs": [],
   "source": [
    "class Person:\n",
    "    def printP(self):\n",
    "        print(\" instance method \")\n",
    "        \n",
    "    @classmethod\n",
    "    def printC(cls):\n",
    "        print(\" class method \")"
   ]
  },
  {
   "cell_type": "code",
   "execution_count": null,
   "metadata": {},
   "outputs": [],
   "source": []
  },
  {
   "cell_type": "code",
   "execution_count": 3,
   "metadata": {},
   "outputs": [],
   "source": [
    "class People:\n",
    "    def printB(self) :\n",
    "        print(\"instance method\")\n",
    "    \n",
    "    @classmethod\n",
    "    def printC(self) :\n",
    "        print(\"class method\")"
   ]
  },
  {
   "cell_type": "code",
   "execution_count": 4,
   "metadata": {},
   "outputs": [
    {
     "data": {
      "text/plain": [
       "mappingproxy({'__module__': '__main__',\n",
       "              'printB': <function __main__.People.printB(self)>,\n",
       "              'printC': <classmethod at 0x7fd98996c7c0>,\n",
       "              '__dict__': <attribute '__dict__' of 'People' objects>,\n",
       "              '__weakref__': <attribute '__weakref__' of 'People' objects>,\n",
       "              '__doc__': None})"
      ]
     },
     "execution_count": 4,
     "metadata": {},
     "output_type": "execute_result"
    }
   ],
   "source": [
    "People.__dict__"
   ]
  },
  {
   "cell_type": "markdown",
   "metadata": {},
   "source": [
    "### 클래스 내부 속성 확인"
   ]
  },
  {
   "cell_type": "code",
   "execution_count": 52,
   "metadata": {},
   "outputs": [
    {
     "data": {
      "text/plain": [
       "mappingproxy({'__module__': '__main__',\n",
       "              'printP': <function __main__.Person.printP(self)>,\n",
       "              'printC': <classmethod at 0x7fdfbb245310>,\n",
       "              '__dict__': <attribute '__dict__' of 'Person' objects>,\n",
       "              '__weakref__': <attribute '__weakref__' of 'Person' objects>,\n",
       "              '__doc__': None})"
      ]
     },
     "execution_count": 52,
     "metadata": {},
     "output_type": "execute_result"
    }
   ],
   "source": [
    "Person.__dict__"
   ]
  },
  {
   "cell_type": "code",
   "execution_count": 53,
   "metadata": {},
   "outputs": [
    {
     "name": "stdout",
     "output_type": "stream",
     "text": [
      " instance method \n",
      " instance method \n"
     ]
    }
   ],
   "source": [
    "p = Person()\n",
    "p.printP()\n",
    "Person.printP(p)"
   ]
  },
  {
   "cell_type": "markdown",
   "metadata": {},
   "source": [
    "### 클래스 메소드 바인딩 "
   ]
  },
  {
   "cell_type": "code",
   "execution_count": 54,
   "metadata": {},
   "outputs": [
    {
     "data": {
      "text/plain": [
       "<bound method Person.printC of <class '__main__.Person'>>"
      ]
     },
     "execution_count": 54,
     "metadata": {},
     "output_type": "execute_result"
    }
   ],
   "source": [
    "Person.printC"
   ]
  },
  {
   "cell_type": "code",
   "execution_count": 55,
   "metadata": {},
   "outputs": [
    {
     "name": "stdout",
     "output_type": "stream",
     "text": [
      " class method \n"
     ]
    }
   ],
   "source": [
    "Person.printC()"
   ]
  },
  {
   "cell_type": "code",
   "execution_count": 56,
   "metadata": {},
   "outputs": [
    {
     "data": {
      "text/plain": [
       "<bound method Person.printC of <class '__main__.Person'>>"
      ]
     },
     "execution_count": 56,
     "metadata": {},
     "output_type": "execute_result"
    }
   ],
   "source": [
    "p.printC"
   ]
  },
  {
   "cell_type": "code",
   "execution_count": 57,
   "metadata": {},
   "outputs": [
    {
     "name": "stdout",
     "output_type": "stream",
     "text": [
      " class method \n"
     ]
    }
   ],
   "source": [
    "p.printC()"
   ]
  },
  {
   "cell_type": "markdown",
   "metadata": {},
   "source": [
    "## 3.3  정적 메소드\n",
    "\n",
    "- 함수를 그대로 사용할 수 있는 하나의 방법\n",
    "- 정적메소드에는 cls, self 등을 별도로 정의할 필요가 없다."
   ]
  },
  {
   "cell_type": "markdown",
   "metadata": {},
   "source": [
    "### 정적 메소드 정의 "
   ]
  },
  {
   "cell_type": "code",
   "execution_count": 58,
   "metadata": {},
   "outputs": [],
   "source": [
    "class CC:\n",
    "    \"\"\" no __init__ class \"\"\"\n",
    "    @staticmethod\n",
    "    def init(name):\n",
    "        self = CC()\n",
    "        setattr(self, \"name\", name)\n",
    "        return self"
   ]
  },
  {
   "cell_type": "code",
   "execution_count": 59,
   "metadata": {},
   "outputs": [
    {
     "data": {
      "text/plain": [
       "mappingproxy({'__module__': '__main__',\n",
       "              '__doc__': ' no __init__ class ',\n",
       "              'init': <staticmethod at 0x7fdfbb1b9050>,\n",
       "              '__dict__': <attribute '__dict__' of 'CC' objects>,\n",
       "              '__weakref__': <attribute '__weakref__' of 'CC' objects>})"
      ]
     },
     "execution_count": 59,
     "metadata": {},
     "output_type": "execute_result"
    }
   ],
   "source": [
    "CC.__dict__"
   ]
  },
  {
   "cell_type": "markdown",
   "metadata": {},
   "source": [
    "### 정적메소드를 통해 인스턴스 생성 "
   ]
  },
  {
   "cell_type": "code",
   "execution_count": 60,
   "metadata": {},
   "outputs": [],
   "source": [
    "c = CC.init(\"인스턴스 생성\")"
   ]
  },
  {
   "cell_type": "code",
   "execution_count": 61,
   "metadata": {},
   "outputs": [
    {
     "name": "stdout",
     "output_type": "stream",
     "text": [
      "{'name': '인스턴스 생성'}\n"
     ]
    }
   ],
   "source": [
    "print(c.__dict__)"
   ]
  },
  {
   "cell_type": "code",
   "execution_count": null,
   "metadata": {},
   "outputs": [],
   "source": []
  },
  {
   "cell_type": "markdown",
   "metadata": {},
   "source": [
    "# 4. 클래스나 객체 멤버 이름 지정하기\n",
    "\n",
    "- 파이썬은 멤버에 대한 접근제어가 불가능하다.\n",
    "- 일차적으로 이름으로 보호속성을 명기해서 사용하는 방식을 사용한다.\n",
    "- 접근제어를 명확히 하려면 디스크립터 클래스를 만들어서 사용한다."
   ]
  },
  {
   "cell_type": "markdown",
   "metadata": {},
   "source": [
    "## 보호속성\n",
    "- 속성에 언더바가 하나 붙어있어면 관행적으로 보호속성으로 인식한다.\n",
    "- 코딩할 때 직접 접근하지 않게 처리하나."
   ]
  },
  {
   "cell_type": "code",
   "execution_count": 20,
   "metadata": {},
   "outputs": [],
   "source": [
    "class A :\n",
    "    _private = 100"
   ]
  },
  {
   "cell_type": "code",
   "execution_count": 24,
   "metadata": {},
   "outputs": [
    {
     "data": {
      "text/plain": [
       "100"
      ]
     },
     "execution_count": 24,
     "metadata": {},
     "output_type": "execute_result"
    }
   ],
   "source": [
    "A._private"
   ]
  },
  {
   "cell_type": "code",
   "execution_count": null,
   "metadata": {},
   "outputs": [],
   "source": []
  },
  {
   "cell_type": "code",
   "execution_count": null,
   "metadata": {},
   "outputs": [],
   "source": []
  },
  {
   "cell_type": "markdown",
   "metadata": {},
   "source": [
    "## 맹글링 처리\n",
    "\n",
    "- 속성 이름앞에 언더바를 두 개를 붙이면 자동으로 클래스 이름과 결합되어 변경한다."
   ]
  },
  {
   "cell_type": "code",
   "execution_count": 36,
   "metadata": {},
   "outputs": [],
   "source": [
    "# 네임스페이스안의 내장 속성이름을 바꿔주는 것.\n",
    "# __name__ 은 클래스 속성의 이름을 알려준다.\n",
    "# \n",
    "class B :\n",
    "    __private = 100"
   ]
  },
  {
   "cell_type": "code",
   "execution_count": 37,
   "metadata": {},
   "outputs": [
    {
     "ename": "AttributeError",
     "evalue": "type object 'B' has no attribute '__private'",
     "output_type": "error",
     "traceback": [
      "\u001b[0;31m---------------------------------------------------------------------------\u001b[0m",
      "\u001b[0;31mAttributeError\u001b[0m                            Traceback (most recent call last)",
      "\u001b[0;32m<ipython-input-37-49e9bab77c3d>\u001b[0m in \u001b[0;36m<module>\u001b[0;34m\u001b[0m\n\u001b[0;32m----> 1\u001b[0;31m \u001b[0mB\u001b[0m\u001b[0;34m.\u001b[0m\u001b[0m__private\u001b[0m\u001b[0;34m\u001b[0m\u001b[0;34m\u001b[0m\u001b[0m\n\u001b[0m",
      "\u001b[0;31mAttributeError\u001b[0m: type object 'B' has no attribute '__private'"
     ]
    }
   ],
   "source": [
    "B.__private"
   ]
  },
  {
   "cell_type": "code",
   "execution_count": 38,
   "metadata": {},
   "outputs": [
    {
     "data": {
      "text/plain": [
       "mappingproxy({'__module__': '__main__',\n",
       "              '_B__private': 100,\n",
       "              '__dict__': <attribute '__dict__' of 'B' objects>,\n",
       "              '__weakref__': <attribute '__weakref__' of 'B' objects>,\n",
       "              '__doc__': None})"
      ]
     },
     "execution_count": 38,
     "metadata": {},
     "output_type": "execute_result"
    }
   ],
   "source": [
    "B.__dict__"
   ]
  },
  {
   "cell_type": "code",
   "execution_count": 39,
   "metadata": {},
   "outputs": [
    {
     "data": {
      "text/plain": [
       "100"
      ]
     },
     "execution_count": 39,
     "metadata": {},
     "output_type": "execute_result"
    }
   ],
   "source": [
    "B._B__private"
   ]
  },
  {
   "cell_type": "code",
   "execution_count": null,
   "metadata": {},
   "outputs": [],
   "source": []
  },
  {
   "cell_type": "markdown",
   "metadata": {},
   "source": [
    "# 5. 상속 알아보기\n",
    "\n",
    "- 상속을 한다는 것은 부모 클래스를 자식 클래스에서 사용한다는 뜻이다."
   ]
  },
  {
   "cell_type": "markdown",
   "metadata": {},
   "source": [
    "## 부모 클래스 정의\n",
    "\n",
    "- 다른 클래스들이 상속하는 클래스 정의"
   ]
  },
  {
   "cell_type": "code",
   "execution_count": 1,
   "metadata": {},
   "outputs": [],
   "source": [
    "class Parent :\n",
    "    def __init__(self,name) :\n",
    "        self.name = name\n",
    "        \n",
    "    def get(self) :\n",
    "        return self.name"
   ]
  },
  {
   "cell_type": "markdown",
   "metadata": {},
   "source": [
    "## 자식 클래스 정의\n",
    "- 부모 클래스를 상속\n",
    "- 부모 클래스 내의 초기화 값을 처리: super() 사용\n",
    "- 부모 클래스의 메소드에 대한 재정의(오버라이드 가능)\n"
   ]
  },
  {
   "cell_type": "code",
   "execution_count": 8,
   "metadata": {},
   "outputs": [],
   "source": [
    "class Child(Parent) :\n",
    "    def __init__(self, name, age) :\n",
    "        super().__init__(name)\n",
    "        self.age = age\n",
    "        \n",
    "    def get(self) :\n",
    "        name = super().get()\n",
    "        return name, self.age"
   ]
  },
  {
   "cell_type": "code",
   "execution_count": null,
   "metadata": {},
   "outputs": [],
   "source": []
  },
  {
   "cell_type": "code",
   "execution_count": 9,
   "metadata": {},
   "outputs": [],
   "source": [
    "p = Parent(\"dahl\")"
   ]
  },
  {
   "cell_type": "code",
   "execution_count": 10,
   "metadata": {},
   "outputs": [],
   "source": [
    "c = Child(\"moon\", 55)"
   ]
  },
  {
   "cell_type": "code",
   "execution_count": 11,
   "metadata": {},
   "outputs": [
    {
     "data": {
      "text/plain": [
       "'dahl'"
      ]
     },
     "execution_count": 11,
     "metadata": {},
     "output_type": "execute_result"
    }
   ],
   "source": [
    "p.get()"
   ]
  },
  {
   "cell_type": "code",
   "execution_count": 12,
   "metadata": {},
   "outputs": [
    {
     "data": {
      "text/plain": [
       "('moon', 55)"
      ]
     },
     "execution_count": 12,
     "metadata": {},
     "output_type": "execute_result"
    }
   ],
   "source": [
    "c.get()"
   ]
  },
  {
   "cell_type": "code",
   "execution_count": null,
   "metadata": {},
   "outputs": [],
   "source": []
  },
  {
   "cell_type": "markdown",
   "metadata": {},
   "source": [
    "# 6 . 데이터 관리 클래스 알아보기\n",
    "\n",
    "- 특정 데이터에 대해서 변경이 불가능한 객체 등을 만들어서 관리할 필요가 있다."
   ]
  },
  {
   "cell_type": "code",
   "execution_count": null,
   "metadata": {},
   "outputs": [],
   "source": []
  },
  {
   "cell_type": "markdown",
   "metadata": {},
   "source": [
    "## 네임도 튜플\n",
    "\n",
    "- 튜플은 변경이 불가능한 자료구조이다.\n",
    "- 이 튜플에 이름을 붙여해서 각 값을 이름으로 접근할 수 있게 만든다.\n",
    "- 변경이 불가능한 데이터 구조를 만들 때 사용한다."
   ]
  },
  {
   "cell_type": "code",
   "execution_count": 56,
   "metadata": {},
   "outputs": [],
   "source": [
    "# nametuple은 immutable 성질\n",
    "from collections import namedtuple"
   ]
  },
  {
   "cell_type": "code",
   "execution_count": 57,
   "metadata": {},
   "outputs": [],
   "source": [
    "Person = namedtuple(\"Person\",\"name age\")"
   ]
  },
  {
   "cell_type": "code",
   "execution_count": 58,
   "metadata": {},
   "outputs": [
    {
     "data": {
      "text/plain": [
       "__main__.Person"
      ]
     },
     "execution_count": 58,
     "metadata": {},
     "output_type": "execute_result"
    }
   ],
   "source": [
    "Person"
   ]
  },
  {
   "cell_type": "code",
   "execution_count": 59,
   "metadata": {},
   "outputs": [],
   "source": [
    "p = Person(\"dahlmoon\", 55)"
   ]
  },
  {
   "cell_type": "code",
   "execution_count": 60,
   "metadata": {},
   "outputs": [
    {
     "data": {
      "text/plain": [
       "Person(name='dahlmoon', age=55)"
      ]
     },
     "execution_count": 60,
     "metadata": {},
     "output_type": "execute_result"
    }
   ],
   "source": [
    "p"
   ]
  },
  {
   "cell_type": "code",
   "execution_count": 61,
   "metadata": {},
   "outputs": [
    {
     "data": {
      "text/plain": [
       "'dahlmoon'"
      ]
     },
     "execution_count": 61,
     "metadata": {},
     "output_type": "execute_result"
    }
   ],
   "source": [
    "p.name"
   ]
  },
  {
   "cell_type": "code",
   "execution_count": 62,
   "metadata": {
    "scrolled": true
   },
   "outputs": [
    {
     "data": {
      "text/plain": [
       "55"
      ]
     },
     "execution_count": 62,
     "metadata": {},
     "output_type": "execute_result"
    }
   ],
   "source": [
    "p.age"
   ]
  },
  {
   "cell_type": "code",
   "execution_count": 63,
   "metadata": {},
   "outputs": [
    {
     "data": {
      "text/plain": [
       "'dahlmoon'"
      ]
     },
     "execution_count": 63,
     "metadata": {},
     "output_type": "execute_result"
    }
   ],
   "source": [
    "# p의 객체 안에 \n",
    "p[0]"
   ]
  },
  {
   "cell_type": "code",
   "execution_count": 64,
   "metadata": {},
   "outputs": [
    {
     "data": {
      "text/plain": [
       "mappingproxy({'__doc__': 'Person(name, age)',\n",
       "              '__slots__': (),\n",
       "              '_fields': ('name', 'age'),\n",
       "              '_field_defaults': {},\n",
       "              '_fields_defaults': {},\n",
       "              '__new__': <staticmethod at 0x7fd989b5c1c0>,\n",
       "              '_make': <classmethod at 0x7fd989b5c250>,\n",
       "              '_replace': <function collections.Person._replace(self, /, **kwds)>,\n",
       "              '__repr__': <function collections.Person.__repr__(self)>,\n",
       "              '_asdict': <function collections.Person._asdict(self)>,\n",
       "              '__getnewargs__': <function collections.Person.__getnewargs__(self)>,\n",
       "              'name': <_collections._tuplegetter at 0x7fd989b5c220>,\n",
       "              'age': <_collections._tuplegetter at 0x7fd989b5c1f0>,\n",
       "              '__module__': '__main__'})"
      ]
     },
     "execution_count": 64,
     "metadata": {},
     "output_type": "execute_result"
    }
   ],
   "source": [
    "Person.__dict__"
   ]
  },
  {
   "cell_type": "markdown",
   "metadata": {},
   "source": [
    "### 내부의 값을 변경할 때는 에러가 발생한다."
   ]
  },
  {
   "cell_type": "code",
   "execution_count": 69,
   "metadata": {},
   "outputs": [
    {
     "ename": "AttributeError",
     "evalue": "can't set attribute",
     "output_type": "error",
     "traceback": [
      "\u001b[0;31m---------------------------------------------------------------------------\u001b[0m",
      "\u001b[0;31mAttributeError\u001b[0m                            Traceback (most recent call last)",
      "\u001b[0;32m<ipython-input-69-1cc7bbc662da>\u001b[0m in \u001b[0;36m<module>\u001b[0;34m\u001b[0m\n\u001b[0;32m----> 1\u001b[0;31m \u001b[0mp\u001b[0m\u001b[0;34m.\u001b[0m\u001b[0mname\u001b[0m \u001b[0;34m=\u001b[0m \u001b[0;34m\"\"\u001b[0m\u001b[0;34m\u001b[0m\u001b[0;34m\u001b[0m\u001b[0m\n\u001b[0m",
      "\u001b[0;31mAttributeError\u001b[0m: can't set attribute"
     ]
    }
   ],
   "source": [
    "p.name = \"\""
   ]
  },
  {
   "cell_type": "markdown",
   "metadata": {},
   "source": [
    "## 리스트와 듀플의 차이점"
   ]
  },
  {
   "cell_type": "code",
   "execution_count": 116,
   "metadata": {},
   "outputs": [],
   "source": [
    "ii = [1,2,3,4,5]"
   ]
  },
  {
   "cell_type": "code",
   "execution_count": 117,
   "metadata": {},
   "outputs": [
    {
     "data": {
      "text/plain": [
       "2"
      ]
     },
     "execution_count": 117,
     "metadata": {},
     "output_type": "execute_result"
    }
   ],
   "source": [
    "# 리스트에서 대괄호가 메소드다. __getitem__ 과 같다.\n",
    "ii[1]"
   ]
  },
  {
   "cell_type": "code",
   "execution_count": 118,
   "metadata": {},
   "outputs": [
    {
     "data": {
      "text/plain": [
       "2"
      ]
     },
     "execution_count": 118,
     "metadata": {},
     "output_type": "execute_result"
    }
   ],
   "source": [
    "ii.__getitem__(1)"
   ]
  },
  {
   "cell_type": "code",
   "execution_count": 119,
   "metadata": {},
   "outputs": [],
   "source": [
    "# 리스트에서 = 은 __setitem__ 메소드와 같다.\n",
    "ii[1] = 4"
   ]
  },
  {
   "cell_type": "code",
   "execution_count": 120,
   "metadata": {},
   "outputs": [
    {
     "data": {
      "text/plain": [
       "4"
      ]
     },
     "execution_count": 120,
     "metadata": {},
     "output_type": "execute_result"
    }
   ],
   "source": [
    "ii[1]"
   ]
  },
  {
   "cell_type": "code",
   "execution_count": 121,
   "metadata": {},
   "outputs": [],
   "source": [
    "ii.__setitem__(1, 200)"
   ]
  },
  {
   "cell_type": "code",
   "execution_count": 122,
   "metadata": {},
   "outputs": [
    {
     "data": {
      "text/plain": [
       "200"
      ]
     },
     "execution_count": 122,
     "metadata": {},
     "output_type": "execute_result"
    }
   ],
   "source": [
    "ii[1]"
   ]
  },
  {
   "cell_type": "code",
   "execution_count": 123,
   "metadata": {},
   "outputs": [
    {
     "data": {
      "text/plain": [
       "<slot wrapper '__getitem__' of 'str' objects>"
      ]
     },
     "execution_count": 123,
     "metadata": {},
     "output_type": "execute_result"
    }
   ],
   "source": [
    "str.__dict__['__getitem__']"
   ]
  },
  {
   "cell_type": "code",
   "execution_count": 124,
   "metadata": {},
   "outputs": [
    {
     "ename": "KeyError",
     "evalue": "'__setitem__'",
     "output_type": "error",
     "traceback": [
      "\u001b[0;31m---------------------------------------------------------------------------\u001b[0m",
      "\u001b[0;31mKeyError\u001b[0m                                  Traceback (most recent call last)",
      "\u001b[0;32m<ipython-input-124-f3599b21aeb1>\u001b[0m in \u001b[0;36m<module>\u001b[0;34m\u001b[0m\n\u001b[1;32m      1\u001b[0m \u001b[0;31m# 바꿀 수 없으니 set 메소드는 가지고 있지 않다.\u001b[0m\u001b[0;34m\u001b[0m\u001b[0;34m\u001b[0m\u001b[0;34m\u001b[0m\u001b[0m\n\u001b[0;32m----> 2\u001b[0;31m \u001b[0mstr\u001b[0m\u001b[0;34m.\u001b[0m\u001b[0m__dict__\u001b[0m\u001b[0;34m[\u001b[0m\u001b[0;34m'__setitem__'\u001b[0m\u001b[0;34m]\u001b[0m\u001b[0;34m\u001b[0m\u001b[0;34m\u001b[0m\u001b[0m\n\u001b[0m",
      "\u001b[0;31mKeyError\u001b[0m: '__setitem__'"
     ]
    }
   ],
   "source": [
    "# 바꿀 수 없으니 set 메소드는 가지고 있지 않다.\n",
    "str.__dict__['__setitem__']"
   ]
  },
  {
   "cell_type": "code",
   "execution_count": 125,
   "metadata": {},
   "outputs": [
    {
     "data": {
      "text/plain": [
       "[1, 200, 3, 4, 5]"
      ]
     },
     "execution_count": 125,
     "metadata": {},
     "output_type": "execute_result"
    }
   ],
   "source": [
    "ii"
   ]
  },
  {
   "cell_type": "code",
   "execution_count": 126,
   "metadata": {},
   "outputs": [],
   "source": [
    "del ii[1]"
   ]
  },
  {
   "cell_type": "code",
   "execution_count": 127,
   "metadata": {},
   "outputs": [
    {
     "data": {
      "text/plain": [
       "[1, 3, 4, 5]"
      ]
     },
     "execution_count": 127,
     "metadata": {},
     "output_type": "execute_result"
    }
   ],
   "source": [
    "ii"
   ]
  },
  {
   "cell_type": "code",
   "execution_count": null,
   "metadata": {},
   "outputs": [],
   "source": []
  },
  {
   "cell_type": "code",
   "execution_count": null,
   "metadata": {},
   "outputs": [],
   "source": []
  },
  {
   "cell_type": "code",
   "execution_count": null,
   "metadata": {},
   "outputs": [],
   "source": []
  },
  {
   "cell_type": "code",
   "execution_count": null,
   "metadata": {},
   "outputs": [],
   "source": []
  },
  {
   "cell_type": "markdown",
   "metadata": {},
   "source": [
    "## 데이터 클래스 정의하기"
   ]
  },
  {
   "cell_type": "code",
   "execution_count": null,
   "metadata": {},
   "outputs": [],
   "source": []
  },
  {
   "cell_type": "code",
   "execution_count": 133,
   "metadata": {},
   "outputs": [],
   "source": [
    "from dataclasses import dataclass"
   ]
  },
  {
   "cell_type": "markdown",
   "metadata": {},
   "source": [
    "#### 어노테이션을 지정한 변수는 실제 변수 정의가 아님"
   ]
  },
  {
   "cell_type": "code",
   "execution_count": 134,
   "metadata": {},
   "outputs": [],
   "source": [
    "# 어노테이션은 주석이다.\n",
    "var : str"
   ]
  },
  {
   "cell_type": "code",
   "execution_count": 135,
   "metadata": {},
   "outputs": [
    {
     "ename": "NameError",
     "evalue": "name 'var' is not defined",
     "output_type": "error",
     "traceback": [
      "\u001b[0;31m---------------------------------------------------------------------------\u001b[0m",
      "\u001b[0;31mNameError\u001b[0m                                 Traceback (most recent call last)",
      "\u001b[0;32m<ipython-input-135-84ddba356ca3>\u001b[0m in \u001b[0;36m<module>\u001b[0;34m\u001b[0m\n\u001b[0;32m----> 1\u001b[0;31m \u001b[0mvar\u001b[0m\u001b[0;34m\u001b[0m\u001b[0;34m\u001b[0m\u001b[0m\n\u001b[0m",
      "\u001b[0;31mNameError\u001b[0m: name 'var' is not defined"
     ]
    }
   ],
   "source": [
    "var"
   ]
  },
  {
   "cell_type": "markdown",
   "metadata": {},
   "source": [
    "### 데이터 클래스를 정의\n",
    "\n",
    "- 클래스 내부에 변수 어노테이션만 지정할 수 있다.\n",
    "- 변수를 지정하듯이 할당도 가능하다."
   ]
  },
  {
   "cell_type": "code",
   "execution_count": 156,
   "metadata": {},
   "outputs": [],
   "source": [
    "@dataclass\n",
    "class Person :\n",
    "    # 어노테이션만 달면 안에서 만들어준다. 뭐를??\n",
    "    name : str\n",
    "    age : int\n",
    "    id : int = 0"
   ]
  },
  {
   "cell_type": "code",
   "execution_count": 157,
   "metadata": {},
   "outputs": [],
   "source": [
    "pp = Person(\"padakpadok\", 29)"
   ]
  },
  {
   "cell_type": "code",
   "execution_count": 158,
   "metadata": {},
   "outputs": [
    {
     "data": {
      "text/plain": [
       "mappingproxy({'__module__': '__main__',\n",
       "              '__annotations__': {'name': str, 'age': int, 'id': int},\n",
       "              'id': 0,\n",
       "              '__dict__': <attribute '__dict__' of 'Person' objects>,\n",
       "              '__weakref__': <attribute '__weakref__' of 'Person' objects>,\n",
       "              '__doc__': 'Person(name: str, age: int, id: int = 0)',\n",
       "              '__dataclass_params__': _DataclassParams(init=True,repr=True,eq=True,order=False,unsafe_hash=False,frozen=False),\n",
       "              '__dataclass_fields__': {'name': Field(name='name',type=<class 'str'>,default=<dataclasses._MISSING_TYPE object at 0x7fd989b74850>,default_factory=<dataclasses._MISSING_TYPE object at 0x7fd989b74850>,init=True,repr=True,hash=None,compare=True,metadata=mappingproxy({}),_field_type=_FIELD),\n",
       "               'age': Field(name='age',type=<class 'int'>,default=<dataclasses._MISSING_TYPE object at 0x7fd989b74850>,default_factory=<dataclasses._MISSING_TYPE object at 0x7fd989b74850>,init=True,repr=True,hash=None,compare=True,metadata=mappingproxy({}),_field_type=_FIELD),\n",
       "               'id': Field(name='id',type=<class 'int'>,default=0,default_factory=<dataclasses._MISSING_TYPE object at 0x7fd989b74850>,init=True,repr=True,hash=None,compare=True,metadata=mappingproxy({}),_field_type=_FIELD)},\n",
       "              '__init__': <function __main__.__create_fn__.<locals>.__init__(self, name: str, age: int, id: int = 0) -> None>,\n",
       "              '__repr__': <function __main__.__create_fn__.<locals>.__repr__(self)>,\n",
       "              '__eq__': <function __main__.__create_fn__.<locals>.__eq__(self, other)>,\n",
       "              '__hash__': None})"
      ]
     },
     "execution_count": 158,
     "metadata": {},
     "output_type": "execute_result"
    }
   ],
   "source": [
    "# field 에 froze = true/false 에 따라 변경, 불변으로 정의된다.\n",
    "Person.__dict__"
   ]
  },
  {
   "cell_type": "code",
   "execution_count": 159,
   "metadata": {},
   "outputs": [
    {
     "data": {
      "text/plain": [
       "Person(name='padakpadok', age=29, id=0)"
      ]
     },
     "execution_count": 159,
     "metadata": {},
     "output_type": "execute_result"
    }
   ],
   "source": [
    "pp"
   ]
  },
  {
   "cell_type": "code",
   "execution_count": 160,
   "metadata": {},
   "outputs": [],
   "source": [
    "pp.name = 'aaaa'"
   ]
  },
  {
   "cell_type": "code",
   "execution_count": 161,
   "metadata": {},
   "outputs": [
    {
     "data": {
      "text/plain": [
       "'aaaa'"
      ]
     },
     "execution_count": 161,
     "metadata": {},
     "output_type": "execute_result"
    }
   ],
   "source": [
    "pp.name"
   ]
  },
  {
   "cell_type": "code",
   "execution_count": 162,
   "metadata": {},
   "outputs": [
    {
     "data": {
      "text/plain": [
       "29"
      ]
     },
     "execution_count": 162,
     "metadata": {},
     "output_type": "execute_result"
    }
   ],
   "source": [
    "pp.age"
   ]
  },
  {
   "cell_type": "code",
   "execution_count": 163,
   "metadata": {},
   "outputs": [
    {
     "data": {
      "text/plain": [
       "0"
      ]
     },
     "execution_count": 163,
     "metadata": {},
     "output_type": "execute_result"
    }
   ],
   "source": [
    "pp.id"
   ]
  },
  {
   "cell_type": "code",
   "execution_count": 164,
   "metadata": {},
   "outputs": [],
   "source": [
    "pp2 = Person(\"doggi\", 29, 10001)"
   ]
  },
  {
   "cell_type": "code",
   "execution_count": 165,
   "metadata": {},
   "outputs": [
    {
     "data": {
      "text/plain": [
       "Person(name='doggi', age=29, id=10001)"
      ]
     },
     "execution_count": 165,
     "metadata": {},
     "output_type": "execute_result"
    }
   ],
   "source": [
    "pp2"
   ]
  },
  {
   "cell_type": "markdown",
   "metadata": {},
   "source": [
    "### 네임드튜플가 다르게 내부 속성의 값은 변경이 가능하다"
   ]
  },
  {
   "cell_type": "code",
   "execution_count": 17,
   "metadata": {},
   "outputs": [],
   "source": [
    "pp.name =\"\""
   ]
  },
  {
   "cell_type": "code",
   "execution_count": 18,
   "metadata": {},
   "outputs": [
    {
     "data": {
      "text/plain": [
       "''"
      ]
     },
     "execution_count": 18,
     "metadata": {},
     "output_type": "execute_result"
    }
   ],
   "source": [
    "pp.name"
   ]
  },
  {
   "cell_type": "code",
   "execution_count": null,
   "metadata": {},
   "outputs": [],
   "source": []
  }
 ],
 "metadata": {
  "kernelspec": {
   "display_name": "Python 3",
   "language": "python",
   "name": "python3"
  },
  "language_info": {
   "codemirror_mode": {
    "name": "ipython",
    "version": 3
   },
   "file_extension": ".py",
   "mimetype": "text/x-python",
   "name": "python",
   "nbconvert_exporter": "python",
   "pygments_lexer": "ipython3",
   "version": "3.8.10"
  }
 },
 "nbformat": 4,
 "nbformat_minor": 2
}
