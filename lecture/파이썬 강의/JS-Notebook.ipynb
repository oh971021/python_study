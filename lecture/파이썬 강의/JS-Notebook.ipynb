{
 "cells": [
  {
   "cell_type": "code",
   "execution_count": 404,
   "id": "c68db3d3",
   "metadata": {},
   "outputs": [],
   "source": [
    "ss = \"파이썬\" * 5"
   ]
  },
  {
   "cell_type": "code",
   "execution_count": 405,
   "id": "0a37bc6d",
   "metadata": {},
   "outputs": [
    {
     "data": {
      "text/plain": [
       "'파이썬파이썬파이썬파이썬파이썬'"
      ]
     },
     "execution_count": 405,
     "metadata": {},
     "output_type": "execute_result"
    }
   ],
   "source": [
    "ss"
   ]
  },
  {
   "cell_type": "code",
   "execution_count": 406,
   "id": "b2a847ca",
   "metadata": {},
   "outputs": [],
   "source": [
    "s = ss"
   ]
  },
  {
   "cell_type": "code",
   "execution_count": 407,
   "id": "3b419280",
   "metadata": {},
   "outputs": [
    {
     "data": {
      "text/plain": [
       "'썬썬썬썬썬'"
      ]
     },
     "execution_count": 407,
     "metadata": {},
     "output_type": "execute_result"
    }
   ],
   "source": [
    "s[::-3]"
   ]
  },
  {
   "cell_type": "code",
   "execution_count": 408,
   "id": "7ca6534c",
   "metadata": {},
   "outputs": [],
   "source": [
    "x = \"Hello Python\""
   ]
  },
  {
   "cell_type": "code",
   "execution_count": 409,
   "id": "d5a48d9e",
   "metadata": {},
   "outputs": [
    {
     "data": {
      "text/plain": [
       "2"
      ]
     },
     "execution_count": 409,
     "metadata": {},
     "output_type": "execute_result"
    }
   ],
   "source": [
    "x.count('l')"
   ]
  },
  {
   "cell_type": "code",
   "execution_count": 410,
   "id": "a81e91ad",
   "metadata": {},
   "outputs": [
    {
     "data": {
      "text/plain": [
       "(2, 3, 2, 3)"
      ]
     },
     "execution_count": 410,
     "metadata": {},
     "output_type": "execute_result"
    }
   ],
   "source": [
    "x.find('l'), x.rfind('l'), x.index('l'), x.rindex('l')"
   ]
  },
  {
   "cell_type": "code",
   "execution_count": 39,
   "id": "1172a2e2",
   "metadata": {},
   "outputs": [],
   "source": [
    "x_1 = \"Hello\""
   ]
  },
  {
   "cell_type": "code",
   "execution_count": 411,
   "id": "760c4039",
   "metadata": {},
   "outputs": [],
   "source": [
    "x_1 = \" \".join([\"Hello\", \"Python\"])"
   ]
  },
  {
   "cell_type": "code",
   "execution_count": 40,
   "id": "849a3407",
   "metadata": {},
   "outputs": [],
   "source": [
    "x_2 = \"Python\""
   ]
  },
  {
   "cell_type": "code",
   "execution_count": 412,
   "id": "b7fea4ab",
   "metadata": {},
   "outputs": [
    {
     "data": {
      "text/plain": [
       "'Hello Python'"
      ]
     },
     "execution_count": 412,
     "metadata": {},
     "output_type": "execute_result"
    }
   ],
   "source": [
    "x_1"
   ]
  },
  {
   "cell_type": "code",
   "execution_count": 413,
   "id": "24b0a07b",
   "metadata": {},
   "outputs": [
    {
     "data": {
      "text/plain": [
       "['Hello', 'Python']"
      ]
     },
     "execution_count": 413,
     "metadata": {},
     "output_type": "execute_result"
    }
   ],
   "source": [
    "x_1.split(\" \")"
   ]
  },
  {
   "cell_type": "code",
   "execution_count": 414,
   "id": "9a823322",
   "metadata": {},
   "outputs": [
    {
     "data": {
      "text/plain": [
       "'Hello Python'"
      ]
     },
     "execution_count": 414,
     "metadata": {},
     "output_type": "execute_result"
    }
   ],
   "source": [
    "x_1"
   ]
  },
  {
   "cell_type": "code",
   "execution_count": 415,
   "id": "b39bff6f",
   "metadata": {},
   "outputs": [
    {
     "data": {
      "text/plain": [
       "'Hello Python'"
      ]
     },
     "execution_count": 415,
     "metadata": {},
     "output_type": "execute_result"
    }
   ],
   "source": [
    "\"\".join(x_1)"
   ]
  },
  {
   "cell_type": "code",
   "execution_count": 416,
   "id": "0738552b",
   "metadata": {},
   "outputs": [
    {
     "data": {
      "text/plain": [
       "'Hello Python'"
      ]
     },
     "execution_count": 416,
     "metadata": {},
     "output_type": "execute_result"
    }
   ],
   "source": [
    "x_1"
   ]
  },
  {
   "cell_type": "code",
   "execution_count": 417,
   "id": "999d539d",
   "metadata": {},
   "outputs": [],
   "source": [
    "l = []"
   ]
  },
  {
   "cell_type": "code",
   "execution_count": 418,
   "id": "f999e30d",
   "metadata": {},
   "outputs": [
    {
     "data": {
      "text/plain": [
       "[]"
      ]
     },
     "execution_count": 418,
     "metadata": {},
     "output_type": "execute_result"
    }
   ],
   "source": [
    "l"
   ]
  },
  {
   "cell_type": "code",
   "execution_count": 419,
   "id": "f56953a5",
   "metadata": {},
   "outputs": [
    {
     "data": {
      "text/plain": [
       "0"
      ]
     },
     "execution_count": 419,
     "metadata": {},
     "output_type": "execute_result"
    }
   ],
   "source": [
    "len(l)"
   ]
  },
  {
   "cell_type": "code",
   "execution_count": 420,
   "id": "65bbb533",
   "metadata": {},
   "outputs": [],
   "source": [
    "l.append(1)"
   ]
  },
  {
   "cell_type": "code",
   "execution_count": 421,
   "id": "8cf23183",
   "metadata": {},
   "outputs": [],
   "source": [
    "l.append(2)"
   ]
  },
  {
   "cell_type": "code",
   "execution_count": 422,
   "id": "424f5ae0",
   "metadata": {},
   "outputs": [
    {
     "data": {
      "text/plain": [
       "[1, 2]"
      ]
     },
     "execution_count": 422,
     "metadata": {},
     "output_type": "execute_result"
    }
   ],
   "source": [
    "l"
   ]
  },
  {
   "cell_type": "code",
   "execution_count": 423,
   "id": "b8b8c23b",
   "metadata": {},
   "outputs": [
    {
     "data": {
      "text/plain": [
       "2"
      ]
     },
     "execution_count": 423,
     "metadata": {},
     "output_type": "execute_result"
    }
   ],
   "source": [
    "len(l)"
   ]
  },
  {
   "cell_type": "code",
   "execution_count": 424,
   "id": "e2f3b81d",
   "metadata": {},
   "outputs": [],
   "source": [
    "t = list('안녕하세요')"
   ]
  },
  {
   "cell_type": "code",
   "execution_count": 425,
   "id": "4718038f",
   "metadata": {},
   "outputs": [
    {
     "data": {
      "text/plain": [
       "['안', '녕', '하', '세', '요']"
      ]
     },
     "execution_count": 425,
     "metadata": {},
     "output_type": "execute_result"
    }
   ],
   "source": [
    "t"
   ]
  },
  {
   "cell_type": "code",
   "execution_count": 426,
   "id": "c59d72a3",
   "metadata": {},
   "outputs": [],
   "source": [
    "t_1 = tuple('반가습니다')"
   ]
  },
  {
   "cell_type": "code",
   "execution_count": 427,
   "id": "69c3527c",
   "metadata": {},
   "outputs": [
    {
     "data": {
      "text/plain": [
       "('반', '가', '습', '니', '다')"
      ]
     },
     "execution_count": 427,
     "metadata": {},
     "output_type": "execute_result"
    }
   ],
   "source": [
    "t_1"
   ]
  },
  {
   "cell_type": "code",
   "execution_count": null,
   "id": "63d7be4e",
   "metadata": {},
   "outputs": [],
   "source": []
  },
  {
   "cell_type": "code",
   "execution_count": 428,
   "id": "9f10f879",
   "metadata": {},
   "outputs": [
    {
     "name": "stdout",
     "output_type": "stream",
     "text": [
      "안반녕가하습세니요다"
     ]
    }
   ],
   "source": [
    "a = []\n",
    "for i in range(0, len(t)):\n",
    "    a = (t[i] + t_1[i])\n",
    "    print(a, end = \"\")"
   ]
  },
  {
   "cell_type": "code",
   "execution_count": 246,
   "id": "32a411ba",
   "metadata": {},
   "outputs": [
    {
     "data": {
      "text/plain": [
       "']]'"
      ]
     },
     "execution_count": 246,
     "metadata": {},
     "output_type": "execute_result"
    }
   ],
   "source": [
    "a"
   ]
  },
  {
   "cell_type": "code",
   "execution_count": 250,
   "id": "e0bef7f9",
   "metadata": {},
   "outputs": [
    {
     "data": {
      "text/plain": [
       "']]'"
      ]
     },
     "execution_count": 250,
     "metadata": {},
     "output_type": "execute_result"
    }
   ],
   "source": [
    "a"
   ]
  },
  {
   "cell_type": "code",
   "execution_count": null,
   "id": "d65374a8",
   "metadata": {},
   "outputs": [],
   "source": []
  },
  {
   "cell_type": "code",
   "execution_count": 429,
   "id": "85bf857b",
   "metadata": {},
   "outputs": [],
   "source": [
    "t0 = ()"
   ]
  },
  {
   "cell_type": "code",
   "execution_count": 430,
   "id": "80960cda",
   "metadata": {},
   "outputs": [
    {
     "data": {
      "text/plain": [
       "()"
      ]
     },
     "execution_count": 430,
     "metadata": {},
     "output_type": "execute_result"
    }
   ],
   "source": [
    "tuple()"
   ]
  },
  {
   "cell_type": "code",
   "execution_count": 431,
   "id": "58bb61a6",
   "metadata": {},
   "outputs": [
    {
     "data": {
      "text/plain": [
       "0"
      ]
     },
     "execution_count": 431,
     "metadata": {},
     "output_type": "execute_result"
    }
   ],
   "source": [
    "len(t0)"
   ]
  },
  {
   "cell_type": "code",
   "execution_count": 432,
   "id": "ab33772b",
   "metadata": {},
   "outputs": [
    {
     "data": {
      "text/plain": [
       "()"
      ]
     },
     "execution_count": 432,
     "metadata": {},
     "output_type": "execute_result"
    }
   ],
   "source": [
    "t0"
   ]
  },
  {
   "cell_type": "code",
   "execution_count": 288,
   "id": "890c2ddd",
   "metadata": {},
   "outputs": [],
   "source": [
    "t1 = 1,"
   ]
  },
  {
   "cell_type": "code",
   "execution_count": null,
   "id": "7650f122",
   "metadata": {},
   "outputs": [],
   "source": []
  },
  {
   "cell_type": "code",
   "execution_count": 433,
   "id": "83426d74",
   "metadata": {},
   "outputs": [],
   "source": [
    "t = 1,2,3"
   ]
  },
  {
   "cell_type": "code",
   "execution_count": 434,
   "id": "7556f76e",
   "metadata": {},
   "outputs": [
    {
     "data": {
      "text/plain": [
       "(1, 2, 3)"
      ]
     },
     "execution_count": 434,
     "metadata": {},
     "output_type": "execute_result"
    }
   ],
   "source": [
    "t"
   ]
  },
  {
   "cell_type": "code",
   "execution_count": 435,
   "id": "9df478ed",
   "metadata": {},
   "outputs": [],
   "source": [
    "tt = t"
   ]
  },
  {
   "cell_type": "code",
   "execution_count": 436,
   "id": "203c7d17",
   "metadata": {},
   "outputs": [
    {
     "data": {
      "text/plain": [
       "(1, 2, 3)"
      ]
     },
     "execution_count": 436,
     "metadata": {},
     "output_type": "execute_result"
    }
   ],
   "source": [
    "tt"
   ]
  },
  {
   "cell_type": "code",
   "execution_count": 437,
   "id": "40cd60d7",
   "metadata": {},
   "outputs": [
    {
     "data": {
      "text/plain": [
       "False"
      ]
     },
     "execution_count": 437,
     "metadata": {},
     "output_type": "execute_result"
    }
   ],
   "source": [
    "tt is t_1"
   ]
  },
  {
   "cell_type": "code",
   "execution_count": null,
   "id": "3f3de2ae",
   "metadata": {},
   "outputs": [],
   "source": []
  },
  {
   "cell_type": "code",
   "execution_count": 438,
   "id": "4e8393a9",
   "metadata": {},
   "outputs": [],
   "source": [
    "l = [1,2,3,4]"
   ]
  },
  {
   "cell_type": "code",
   "execution_count": 439,
   "id": "909441e9",
   "metadata": {},
   "outputs": [
    {
     "data": {
      "text/plain": [
       "[1, 2, 3, 4]"
      ]
     },
     "execution_count": 439,
     "metadata": {},
     "output_type": "execute_result"
    }
   ],
   "source": [
    "l"
   ]
  },
  {
   "cell_type": "code",
   "execution_count": 440,
   "id": "eda22338",
   "metadata": {},
   "outputs": [],
   "source": [
    "ll = list(l)"
   ]
  },
  {
   "cell_type": "code",
   "execution_count": 441,
   "id": "0ec85358",
   "metadata": {},
   "outputs": [
    {
     "data": {
      "text/plain": [
       "[1, 2, 3, 4]"
      ]
     },
     "execution_count": 441,
     "metadata": {},
     "output_type": "execute_result"
    }
   ],
   "source": [
    "ll"
   ]
  },
  {
   "cell_type": "code",
   "execution_count": 288,
   "id": "5af3a512",
   "metadata": {},
   "outputs": [],
   "source": [
    "t1 = 1,"
   ]
  },
  {
   "cell_type": "code",
   "execution_count": 442,
   "id": "69e153de",
   "metadata": {},
   "outputs": [
    {
     "data": {
      "text/plain": [
       "False"
      ]
     },
     "execution_count": 442,
     "metadata": {},
     "output_type": "execute_result"
    }
   ],
   "source": [
    "ll is l"
   ]
  },
  {
   "cell_type": "code",
   "execution_count": 443,
   "id": "de59dcfa",
   "metadata": {},
   "outputs": [],
   "source": [
    "ll = l"
   ]
  },
  {
   "cell_type": "code",
   "execution_count": 444,
   "id": "b9376daf",
   "metadata": {},
   "outputs": [
    {
     "data": {
      "text/plain": [
       "True"
      ]
     },
     "execution_count": 444,
     "metadata": {},
     "output_type": "execute_result"
    }
   ],
   "source": [
    "ll is l"
   ]
  },
  {
   "cell_type": "code",
   "execution_count": null,
   "id": "314ddba9",
   "metadata": {},
   "outputs": [],
   "source": []
  },
  {
   "cell_type": "code",
   "execution_count": 445,
   "id": "5e349d60",
   "metadata": {},
   "outputs": [],
   "source": [
    "튜플 = 1,2,3,4"
   ]
  },
  {
   "cell_type": "code",
   "execution_count": 446,
   "id": "46eeb502",
   "metadata": {},
   "outputs": [],
   "source": [
    "리스트 = [1,2,3,4]"
   ]
  },
  {
   "cell_type": "code",
   "execution_count": 447,
   "id": "551f62e7",
   "metadata": {},
   "outputs": [
    {
     "data": {
      "text/plain": [
       "(1, 1)"
      ]
     },
     "execution_count": 447,
     "metadata": {},
     "output_type": "execute_result"
    }
   ],
   "source": [
    "튜플.count(4), 리스트.count(4)"
   ]
  },
  {
   "cell_type": "code",
   "execution_count": 448,
   "id": "4b43d477",
   "metadata": {},
   "outputs": [],
   "source": [
    "리스트.append('5')"
   ]
  },
  {
   "cell_type": "code",
   "execution_count": 449,
   "id": "7f087753",
   "metadata": {},
   "outputs": [
    {
     "data": {
      "text/plain": [
       "[1, 2, 3, 4, '5']"
      ]
     },
     "execution_count": 449,
     "metadata": {},
     "output_type": "execute_result"
    }
   ],
   "source": [
    "리스트"
   ]
  },
  {
   "cell_type": "code",
   "execution_count": null,
   "id": "eb05152d",
   "metadata": {},
   "outputs": [],
   "source": []
  },
  {
   "cell_type": "code",
   "execution_count": 450,
   "id": "f85ee0b2",
   "metadata": {},
   "outputs": [],
   "source": [
    "리스트.append(튜플)"
   ]
  },
  {
   "cell_type": "code",
   "execution_count": null,
   "id": "44849f09",
   "metadata": {},
   "outputs": [],
   "source": []
  },
  {
   "cell_type": "code",
   "execution_count": 451,
   "id": "3d6c9189",
   "metadata": {},
   "outputs": [
    {
     "data": {
      "text/plain": [
       "[1, 2, 3, 4, '5', (1, 2, 3, 4)]"
      ]
     },
     "execution_count": 451,
     "metadata": {},
     "output_type": "execute_result"
    }
   ],
   "source": [
    "리스트"
   ]
  },
  {
   "cell_type": "code",
   "execution_count": 454,
   "id": "5556257b",
   "metadata": {},
   "outputs": [],
   "source": [
    "리스트.extend(str(5))"
   ]
  },
  {
   "cell_type": "code",
   "execution_count": null,
   "id": "74f5bfaf",
   "metadata": {},
   "outputs": [],
   "source": []
  },
  {
   "cell_type": "code",
   "execution_count": 452,
   "id": "52847d49",
   "metadata": {},
   "outputs": [],
   "source": [
    "리스트.extend(튜플)"
   ]
  },
  {
   "cell_type": "code",
   "execution_count": null,
   "id": "082058f5",
   "metadata": {},
   "outputs": [],
   "source": []
  },
  {
   "cell_type": "code",
   "execution_count": 453,
   "id": "017b934c",
   "metadata": {},
   "outputs": [
    {
     "data": {
      "text/plain": [
       "[1, 2, 3, 4, '5', (1, 2, 3, 4), 1, 2, 3, 4]"
      ]
     },
     "execution_count": 453,
     "metadata": {},
     "output_type": "execute_result"
    }
   ],
   "source": [
    "리스트"
   ]
  },
  {
   "cell_type": "code",
   "execution_count": null,
   "id": "d1398dd2",
   "metadata": {},
   "outputs": [],
   "source": []
  },
  {
   "cell_type": "code",
   "execution_count": null,
   "id": "89a126e7",
   "metadata": {},
   "outputs": [],
   "source": []
  },
  {
   "cell_type": "code",
   "execution_count": 455,
   "id": "fdfab116",
   "metadata": {},
   "outputs": [
    {
     "data": {
      "text/plain": [
       "[1, 2, 3, 4, '5', (1, 2, 3, 4), 1, 2, 3, 4, '5']"
      ]
     },
     "execution_count": 455,
     "metadata": {},
     "output_type": "execute_result"
    }
   ],
   "source": [
    "리스트"
   ]
  },
  {
   "cell_type": "code",
   "execution_count": null,
   "id": "2bdf7407",
   "metadata": {},
   "outputs": [],
   "source": []
  },
  {
   "cell_type": "code",
   "execution_count": 456,
   "id": "9deac5e5",
   "metadata": {},
   "outputs": [],
   "source": [
    "리스트.remove(str(5))"
   ]
  },
  {
   "cell_type": "code",
   "execution_count": 457,
   "id": "527c5fa1",
   "metadata": {},
   "outputs": [
    {
     "data": {
      "text/plain": [
       "[1, 2, 3, 4, (1, 2, 3, 4), 1, 2, 3, 4, '5']"
      ]
     },
     "execution_count": 457,
     "metadata": {},
     "output_type": "execute_result"
    }
   ],
   "source": [
    "리스트"
   ]
  },
  {
   "cell_type": "code",
   "execution_count": 458,
   "id": "1ffc3859",
   "metadata": {},
   "outputs": [
    {
     "data": {
      "text/plain": [
       "(1, 2, 3, 4)"
      ]
     },
     "execution_count": 458,
     "metadata": {},
     "output_type": "execute_result"
    }
   ],
   "source": [
    "리스트.pop(4)"
   ]
  },
  {
   "cell_type": "code",
   "execution_count": null,
   "id": "143c4d69",
   "metadata": {},
   "outputs": [],
   "source": []
  },
  {
   "cell_type": "code",
   "execution_count": 482,
   "id": "db135109",
   "metadata": {},
   "outputs": [],
   "source": [
    "d2 = dict(l)"
   ]
  },
  {
   "cell_type": "code",
   "execution_count": 483,
   "id": "9e35ae95",
   "metadata": {},
   "outputs": [
    {
     "data": {
      "text/plain": [
       "{'키1': 1, '키2': 2}"
      ]
     },
     "execution_count": 483,
     "metadata": {},
     "output_type": "execute_result"
    }
   ],
   "source": [
    "d2"
   ]
  },
  {
   "cell_type": "code",
   "execution_count": 484,
   "id": "e0ef8778",
   "metadata": {},
   "outputs": [],
   "source": [
    "d3 = d2"
   ]
  },
  {
   "cell_type": "code",
   "execution_count": 485,
   "id": "84357163",
   "metadata": {},
   "outputs": [
    {
     "data": {
      "text/plain": [
       "{'키1': 1, '키2': 2}"
      ]
     },
     "execution_count": 485,
     "metadata": {},
     "output_type": "execute_result"
    }
   ],
   "source": [
    "d3 "
   ]
  },
  {
   "cell_type": "code",
   "execution_count": 486,
   "id": "13127633",
   "metadata": {},
   "outputs": [
    {
     "data": {
      "text/plain": [
       "True"
      ]
     },
     "execution_count": 486,
     "metadata": {},
     "output_type": "execute_result"
    }
   ],
   "source": [
    "d3 is d2"
   ]
  },
  {
   "cell_type": "code",
   "execution_count": 487,
   "id": "1ee59fb9",
   "metadata": {},
   "outputs": [
    {
     "data": {
      "text/plain": [
       "False"
      ]
     },
     "execution_count": 487,
     "metadata": {},
     "output_type": "execute_result"
    }
   ],
   "source": [
    "'키3' in d2"
   ]
  },
  {
   "cell_type": "code",
   "execution_count": 492,
   "id": "d3b95180",
   "metadata": {},
   "outputs": [
    {
     "name": "stdout",
     "output_type": "stream",
     "text": [
      "없어요\n"
     ]
    }
   ],
   "source": [
    "print(d3.get('키6', \"없어요\"))"
   ]
  },
  {
   "cell_type": "code",
   "execution_count": 495,
   "id": "15ea85d3",
   "metadata": {},
   "outputs": [],
   "source": [
    "d3['키1'] = 3"
   ]
  },
  {
   "cell_type": "code",
   "execution_count": 496,
   "id": "a81213f3",
   "metadata": {},
   "outputs": [
    {
     "data": {
      "text/plain": [
       "{'키1': 3, '키2': 2}"
      ]
     },
     "execution_count": 496,
     "metadata": {},
     "output_type": "execute_result"
    }
   ],
   "source": [
    "d3"
   ]
  },
  {
   "cell_type": "code",
   "execution_count": 498,
   "id": "50056e5e",
   "metadata": {},
   "outputs": [
    {
     "data": {
      "text/plain": [
       "3"
      ]
     },
     "execution_count": 498,
     "metadata": {},
     "output_type": "execute_result"
    }
   ],
   "source": [
    "d3.setdefault('키3', 3)"
   ]
  },
  {
   "cell_type": "code",
   "execution_count": 500,
   "id": "af87725b",
   "metadata": {},
   "outputs": [
    {
     "data": {
      "text/plain": [
       "{'키1': 3, '키2': 2, '키3': 3}"
      ]
     },
     "execution_count": 500,
     "metadata": {},
     "output_type": "execute_result"
    }
   ],
   "source": [
    "d3"
   ]
  },
  {
   "cell_type": "code",
   "execution_count": 501,
   "id": "787a14ba",
   "metadata": {},
   "outputs": [
    {
     "data": {
      "text/plain": [
       "3"
      ]
     },
     "execution_count": 501,
     "metadata": {},
     "output_type": "execute_result"
    }
   ],
   "source": [
    "d3.setdefault('키1', 2)"
   ]
  },
  {
   "cell_type": "code",
   "execution_count": 502,
   "id": "a57b41af",
   "metadata": {},
   "outputs": [
    {
     "data": {
      "text/plain": [
       "{'키1': 3, '키2': 2, '키3': 3}"
      ]
     },
     "execution_count": 502,
     "metadata": {},
     "output_type": "execute_result"
    }
   ],
   "source": [
    "d3"
   ]
  },
  {
   "cell_type": "code",
   "execution_count": 681,
   "id": "5cf30ecf",
   "metadata": {},
   "outputs": [],
   "source": [
    "d3.update({'키': 5})"
   ]
  },
  {
   "cell_type": "code",
   "execution_count": 682,
   "id": "aa3c1b0c",
   "metadata": {},
   "outputs": [],
   "source": [
    "d3.update({'키1': 3})"
   ]
  },
  {
   "cell_type": "code",
   "execution_count": 683,
   "id": "31997462",
   "metadata": {},
   "outputs": [
    {
     "data": {
      "text/plain": [
       "{'키1': 3, '키2': 2, '키3': 3, '키': 5}"
      ]
     },
     "execution_count": 683,
     "metadata": {},
     "output_type": "execute_result"
    }
   ],
   "source": [
    "d3"
   ]
  },
  {
   "cell_type": "code",
   "execution_count": 505,
   "id": "d0988524",
   "metadata": {},
   "outputs": [
    {
     "data": {
      "text/plain": [
       "5"
      ]
     },
     "execution_count": 505,
     "metadata": {},
     "output_type": "execute_result"
    }
   ],
   "source": [
    "d3.pop('키')"
   ]
  },
  {
   "cell_type": "code",
   "execution_count": 506,
   "id": "a52493b1",
   "metadata": {},
   "outputs": [
    {
     "data": {
      "text/plain": [
       "{'키1': 3, '키2': 2, '키3': 3}"
      ]
     },
     "execution_count": 506,
     "metadata": {},
     "output_type": "execute_result"
    }
   ],
   "source": [
    "d3"
   ]
  },
  {
   "cell_type": "code",
   "execution_count": 512,
   "id": "4b5f8faa",
   "metadata": {},
   "outputs": [
    {
     "data": {
      "text/plain": [
       "dict_values([3, 2, 3])"
      ]
     },
     "execution_count": 512,
     "metadata": {},
     "output_type": "execute_result"
    }
   ],
   "source": [
    "d3.values()"
   ]
  },
  {
   "cell_type": "code",
   "execution_count": 513,
   "id": "df844c65",
   "metadata": {},
   "outputs": [
    {
     "data": {
      "text/plain": [
       "[3, 2, 3]"
      ]
     },
     "execution_count": 513,
     "metadata": {},
     "output_type": "execute_result"
    }
   ],
   "source": [
    "[*d3.values()]"
   ]
  },
  {
   "cell_type": "code",
   "execution_count": 514,
   "id": "36a586ce",
   "metadata": {},
   "outputs": [
    {
     "data": {
      "text/plain": [
       "['키1', '키2', '키3']"
      ]
     },
     "execution_count": 514,
     "metadata": {},
     "output_type": "execute_result"
    }
   ],
   "source": [
    "[*d3]"
   ]
  },
  {
   "cell_type": "code",
   "execution_count": 516,
   "id": "ddc157f0",
   "metadata": {},
   "outputs": [
    {
     "data": {
      "text/plain": [
       "dict_items([('키1', 3), ('키2', 2), ('키3', 3)])"
      ]
     },
     "execution_count": 516,
     "metadata": {},
     "output_type": "execute_result"
    }
   ],
   "source": [
    "d3.items()"
   ]
  },
  {
   "cell_type": "code",
   "execution_count": 518,
   "id": "f15ef9fa",
   "metadata": {},
   "outputs": [
    {
     "data": {
      "text/plain": [
       "[('키1', 3), ('키2', 2), ('키3', 3)]"
      ]
     },
     "execution_count": 518,
     "metadata": {},
     "output_type": "execute_result"
    }
   ],
   "source": [
    "[*d3.items()]"
   ]
  },
  {
   "cell_type": "code",
   "execution_count": null,
   "id": "48068f9a",
   "metadata": {},
   "outputs": [],
   "source": []
  },
  {
   "cell_type": "code",
   "execution_count": 553,
   "id": "7ba7f800",
   "metadata": {},
   "outputs": [],
   "source": [
    "s = set()"
   ]
  },
  {
   "cell_type": "code",
   "execution_count": 571,
   "id": "dd2c5660",
   "metadata": {},
   "outputs": [],
   "source": [
    "s1 = {1,2,3,4,5}"
   ]
  },
  {
   "cell_type": "code",
   "execution_count": 572,
   "id": "efbe8c28",
   "metadata": {},
   "outputs": [],
   "source": [
    "s2 = { 5, 6}"
   ]
  },
  {
   "cell_type": "code",
   "execution_count": 573,
   "id": "60730520",
   "metadata": {},
   "outputs": [
    {
     "data": {
      "text/plain": [
       "({1, 2, 3, 4, 5}, {5, 6})"
      ]
     },
     "execution_count": 573,
     "metadata": {},
     "output_type": "execute_result"
    }
   ],
   "source": [
    "s1, s2"
   ]
  },
  {
   "cell_type": "code",
   "execution_count": 574,
   "id": "a3730528",
   "metadata": {},
   "outputs": [
    {
     "data": {
      "text/plain": [
       "{5}"
      ]
     },
     "execution_count": 574,
     "metadata": {},
     "output_type": "execute_result"
    }
   ],
   "source": [
    "s1 & s2"
   ]
  },
  {
   "cell_type": "code",
   "execution_count": 575,
   "id": "0b0232a4",
   "metadata": {},
   "outputs": [
    {
     "data": {
      "text/plain": [
       "{5}"
      ]
     },
     "execution_count": 575,
     "metadata": {},
     "output_type": "execute_result"
    }
   ],
   "source": [
    "s1.intersection(s2)"
   ]
  },
  {
   "cell_type": "code",
   "execution_count": 576,
   "id": "ff190f64",
   "metadata": {},
   "outputs": [
    {
     "data": {
      "text/plain": [
       "{1, 2, 3, 4, 5, 6}"
      ]
     },
     "execution_count": 576,
     "metadata": {},
     "output_type": "execute_result"
    }
   ],
   "source": [
    "s1 | s2"
   ]
  },
  {
   "cell_type": "code",
   "execution_count": 577,
   "id": "b6b316a5",
   "metadata": {},
   "outputs": [
    {
     "data": {
      "text/plain": [
       "{1, 2, 3, 4, 5, 6}"
      ]
     },
     "execution_count": 577,
     "metadata": {},
     "output_type": "execute_result"
    }
   ],
   "source": [
    "s1.union(s2)"
   ]
  },
  {
   "cell_type": "code",
   "execution_count": 599,
   "id": "430eeda0",
   "metadata": {},
   "outputs": [
    {
     "data": {
      "text/plain": [
       "{1, 2, 3, 4, 6}"
      ]
     },
     "execution_count": 599,
     "metadata": {},
     "output_type": "execute_result"
    }
   ],
   "source": [
    "s1 ^ s2"
   ]
  },
  {
   "cell_type": "code",
   "execution_count": 600,
   "id": "45468a95",
   "metadata": {},
   "outputs": [
    {
     "data": {
      "text/plain": [
       "{1, 2, 3, 4, 6}"
      ]
     },
     "execution_count": 600,
     "metadata": {},
     "output_type": "execute_result"
    }
   ],
   "source": [
    "s1.symmetric_difference(s2)"
   ]
  },
  {
   "cell_type": "code",
   "execution_count": 601,
   "id": "e09d2c34",
   "metadata": {},
   "outputs": [],
   "source": [
    "s3 = {1,2,3,4}"
   ]
  },
  {
   "cell_type": "code",
   "execution_count": 602,
   "id": "3209ff5f",
   "metadata": {},
   "outputs": [
    {
     "data": {
      "text/plain": [
       "True"
      ]
     },
     "execution_count": 602,
     "metadata": {},
     "output_type": "execute_result"
    }
   ],
   "source": [
    "2 in s3"
   ]
  },
  {
   "cell_type": "code",
   "execution_count": 603,
   "id": "34a404b3",
   "metadata": {},
   "outputs": [
    {
     "data": {
      "text/plain": [
       "False"
      ]
     },
     "execution_count": 603,
     "metadata": {},
     "output_type": "execute_result"
    }
   ],
   "source": [
    "s3 < s2"
   ]
  },
  {
   "cell_type": "code",
   "execution_count": 604,
   "id": "a1c598a9",
   "metadata": {},
   "outputs": [
    {
     "data": {
      "text/plain": [
       "True"
      ]
     },
     "execution_count": 604,
     "metadata": {},
     "output_type": "execute_result"
    }
   ],
   "source": [
    "s3 < s1"
   ]
  },
  {
   "cell_type": "code",
   "execution_count": 608,
   "id": "f2b1a859",
   "metadata": {},
   "outputs": [
    {
     "data": {
      "text/plain": [
       "False"
      ]
     },
     "execution_count": 608,
     "metadata": {},
     "output_type": "execute_result"
    }
   ],
   "source": [
    "s3.issubset(s2)"
   ]
  },
  {
   "cell_type": "code",
   "execution_count": 609,
   "id": "0c9f5be5",
   "metadata": {},
   "outputs": [
    {
     "data": {
      "text/plain": [
       "True"
      ]
     },
     "execution_count": 609,
     "metadata": {},
     "output_type": "execute_result"
    }
   ],
   "source": [
    "s3.issubset(s1)"
   ]
  },
  {
   "cell_type": "code",
   "execution_count": null,
   "id": "79106697",
   "metadata": {},
   "outputs": [],
   "source": []
  },
  {
   "cell_type": "code",
   "execution_count": 610,
   "id": "0a7a266e",
   "metadata": {},
   "outputs": [
    {
     "data": {
      "text/plain": [
       "False"
      ]
     },
     "execution_count": 610,
     "metadata": {},
     "output_type": "execute_result"
    }
   ],
   "source": [
    "s3 <= s2"
   ]
  },
  {
   "cell_type": "code",
   "execution_count": 611,
   "id": "918ec5e1",
   "metadata": {},
   "outputs": [
    {
     "data": {
      "text/plain": [
       "True"
      ]
     },
     "execution_count": 611,
     "metadata": {},
     "output_type": "execute_result"
    }
   ],
   "source": [
    "s3 <= s1"
   ]
  },
  {
   "cell_type": "code",
   "execution_count": 612,
   "id": "93b3c7db",
   "metadata": {},
   "outputs": [
    {
     "data": {
      "text/plain": [
       "False"
      ]
     },
     "execution_count": 612,
     "metadata": {},
     "output_type": "execute_result"
    }
   ],
   "source": [
    "s3.issuperset(s2) # >="
   ]
  },
  {
   "cell_type": "code",
   "execution_count": 615,
   "id": "0cb62233",
   "metadata": {},
   "outputs": [
    {
     "data": {
      "text/plain": [
       "False"
      ]
     },
     "execution_count": 615,
     "metadata": {},
     "output_type": "execute_result"
    }
   ],
   "source": [
    "s3.issuperset(s1) # >="
   ]
  },
  {
   "cell_type": "code",
   "execution_count": 616,
   "id": "9e776936",
   "metadata": {},
   "outputs": [
    {
     "data": {
      "text/plain": [
       "True"
      ]
     },
     "execution_count": 616,
     "metadata": {},
     "output_type": "execute_result"
    }
   ],
   "source": [
    "s1.issuperset(s1) # <="
   ]
  },
  {
   "cell_type": "code",
   "execution_count": null,
   "id": "46ce1f9c",
   "metadata": {},
   "outputs": [],
   "source": []
  },
  {
   "cell_type": "code",
   "execution_count": 628,
   "id": "6a8ba3d0",
   "metadata": {},
   "outputs": [],
   "source": [
    "from types import SimpleNamespace"
   ]
  },
  {
   "cell_type": "code",
   "execution_count": 629,
   "id": "a77aa4bf",
   "metadata": {},
   "outputs": [],
   "source": [
    "s__dict__ = SimpleNamespace()"
   ]
  },
  {
   "cell_type": "code",
   "execution_count": 630,
   "id": "6fb0a964",
   "metadata": {},
   "outputs": [
    {
     "data": {
      "text/plain": [
       "namespace()"
      ]
     },
     "execution_count": 630,
     "metadata": {},
     "output_type": "execute_result"
    }
   ],
   "source": [
    "s__dict__"
   ]
  },
  {
   "cell_type": "code",
   "execution_count": 631,
   "id": "01ab8d0e",
   "metadata": {},
   "outputs": [],
   "source": [
    "s__dict__.a = \"hi\""
   ]
  },
  {
   "cell_type": "code",
   "execution_count": 632,
   "id": "f849587b",
   "metadata": {},
   "outputs": [],
   "source": [
    "s__dict__.b = \"hello\""
   ]
  },
  {
   "cell_type": "code",
   "execution_count": 633,
   "id": "94a6ab2f",
   "metadata": {},
   "outputs": [
    {
     "data": {
      "text/plain": [
       "namespace(a='hi', b='hello')"
      ]
     },
     "execution_count": 633,
     "metadata": {},
     "output_type": "execute_result"
    }
   ],
   "source": [
    "s__dict__"
   ]
  },
  {
   "cell_type": "code",
   "execution_count": null,
   "id": "54a5558b",
   "metadata": {},
   "outputs": [],
   "source": []
  },
  {
   "cell_type": "code",
   "execution_count": 634,
   "id": "1b397714",
   "metadata": {},
   "outputs": [
    {
     "data": {
      "text/plain": [
       "('hi', 'hello')"
      ]
     },
     "execution_count": 634,
     "metadata": {},
     "output_type": "execute_result"
    }
   ],
   "source": [
    "s__dict__.a, s__dict__.b"
   ]
  },
  {
   "cell_type": "code",
   "execution_count": null,
   "id": "ff405f2e",
   "metadata": {},
   "outputs": [],
   "source": []
  },
  {
   "cell_type": "code",
   "execution_count": 635,
   "id": "9e36f2e9",
   "metadata": {},
   "outputs": [],
   "source": [
    "x = 300"
   ]
  },
  {
   "cell_type": "code",
   "execution_count": 636,
   "id": "a3d4501f",
   "metadata": {},
   "outputs": [],
   "source": [
    "y = 500"
   ]
  },
  {
   "cell_type": "code",
   "execution_count": 637,
   "id": "1cb0719b",
   "metadata": {},
   "outputs": [],
   "source": [
    "temp = x"
   ]
  },
  {
   "cell_type": "code",
   "execution_count": 638,
   "id": "d21c32ff",
   "metadata": {},
   "outputs": [],
   "source": [
    "x = y"
   ]
  },
  {
   "cell_type": "code",
   "execution_count": 639,
   "id": "9d474065",
   "metadata": {},
   "outputs": [],
   "source": [
    "y = temp"
   ]
  },
  {
   "cell_type": "code",
   "execution_count": 640,
   "id": "69902007",
   "metadata": {},
   "outputs": [
    {
     "data": {
      "text/plain": [
       "(500, 300)"
      ]
     },
     "execution_count": 640,
     "metadata": {},
     "output_type": "execute_result"
    }
   ],
   "source": [
    "x, y"
   ]
  },
  {
   "cell_type": "code",
   "execution_count": null,
   "id": "b200d77b",
   "metadata": {},
   "outputs": [],
   "source": []
  },
  {
   "cell_type": "code",
   "execution_count": 668,
   "id": "72cf8ba1",
   "metadata": {},
   "outputs": [],
   "source": [
    "a = 100"
   ]
  },
  {
   "cell_type": "code",
   "execution_count": 669,
   "id": "49c04d03",
   "metadata": {},
   "outputs": [],
   "source": [
    "b = \"Hello\""
   ]
  },
  {
   "cell_type": "code",
   "execution_count": 670,
   "id": "928ac449",
   "metadata": {},
   "outputs": [],
   "source": [
    "a, b = b, a"
   ]
  },
  {
   "cell_type": "code",
   "execution_count": 671,
   "id": "b72bcfd0",
   "metadata": {},
   "outputs": [
    {
     "data": {
      "text/plain": [
       "('Hello', 100)"
      ]
     },
     "execution_count": 671,
     "metadata": {},
     "output_type": "execute_result"
    }
   ],
   "source": [
    "a,b "
   ]
  },
  {
   "cell_type": "code",
   "execution_count": 672,
   "id": "61793df2",
   "metadata": {},
   "outputs": [],
   "source": [
    "c = a,b"
   ]
  },
  {
   "cell_type": "code",
   "execution_count": 673,
   "id": "4a66bfcf",
   "metadata": {},
   "outputs": [
    {
     "data": {
      "text/plain": [
       "('Hello', 100)"
      ]
     },
     "execution_count": 673,
     "metadata": {},
     "output_type": "execute_result"
    }
   ],
   "source": [
    "c"
   ]
  },
  {
   "cell_type": "code",
   "execution_count": 674,
   "id": "955d7c3e",
   "metadata": {},
   "outputs": [],
   "source": [
    "*a, = b,a"
   ]
  },
  {
   "cell_type": "code",
   "execution_count": 675,
   "id": "7206ad76",
   "metadata": {},
   "outputs": [
    {
     "data": {
      "text/plain": [
       "[100, 'Hello']"
      ]
     },
     "execution_count": 675,
     "metadata": {},
     "output_type": "execute_result"
    }
   ],
   "source": [
    "a"
   ]
  },
  {
   "cell_type": "code",
   "execution_count": null,
   "id": "9d9f3443",
   "metadata": {},
   "outputs": [],
   "source": []
  },
  {
   "cell_type": "code",
   "execution_count": 684,
   "id": "610ac76c",
   "metadata": {},
   "outputs": [],
   "source": [
    "e, f, g = 1, 2, 3"
   ]
  },
  {
   "cell_type": "code",
   "execution_count": 685,
   "id": "d0a37dd6",
   "metadata": {},
   "outputs": [
    {
     "data": {
      "text/plain": [
       "(1, 2, 3)"
      ]
     },
     "execution_count": 685,
     "metadata": {},
     "output_type": "execute_result"
    }
   ],
   "source": [
    "e, f, g"
   ]
  },
  {
   "cell_type": "code",
   "execution_count": 686,
   "id": "6ee2a7a3",
   "metadata": {},
   "outputs": [
    {
     "data": {
      "text/plain": [
       "3"
      ]
     },
     "execution_count": 686,
     "metadata": {},
     "output_type": "execute_result"
    }
   ],
   "source": [
    "3"
   ]
  },
  {
   "cell_type": "code",
   "execution_count": 687,
   "id": "397a27df",
   "metadata": {},
   "outputs": [
    {
     "data": {
      "text/plain": [
       "1"
      ]
     },
     "execution_count": 687,
     "metadata": {},
     "output_type": "execute_result"
    }
   ],
   "source": [
    "e"
   ]
  },
  {
   "cell_type": "code",
   "execution_count": 688,
   "id": "38055746",
   "metadata": {},
   "outputs": [
    {
     "data": {
      "text/plain": [
       "2"
      ]
     },
     "execution_count": 688,
     "metadata": {},
     "output_type": "execute_result"
    }
   ],
   "source": [
    "f"
   ]
  },
  {
   "cell_type": "code",
   "execution_count": 689,
   "id": "6e76a57f",
   "metadata": {},
   "outputs": [
    {
     "data": {
      "text/plain": [
       "3"
      ]
     },
     "execution_count": 689,
     "metadata": {},
     "output_type": "execute_result"
    }
   ],
   "source": [
    "g"
   ]
  },
  {
   "cell_type": "code",
   "execution_count": 690,
   "id": "c28fae09",
   "metadata": {},
   "outputs": [
    {
     "ename": "TypeError",
     "evalue": "cannot unpack non-iterable int object",
     "output_type": "error",
     "traceback": [
      "\u001b[1;31m---------------------------------------------------------------------------\u001b[0m",
      "\u001b[1;31mTypeError\u001b[0m                                 Traceback (most recent call last)",
      "\u001b[1;32m<ipython-input-690-1b0d58dceb2c>\u001b[0m in \u001b[0;36m<module>\u001b[1;34m\u001b[0m\n\u001b[1;32m----> 1\u001b[1;33m \u001b[0me\u001b[0m\u001b[1;33m,\u001b[0m \u001b[0mf\u001b[0m\u001b[1;33m,\u001b[0m \u001b[0mg\u001b[0m \u001b[1;33m=\u001b[0m \u001b[1;36m1\u001b[0m\u001b[1;33m\u001b[0m\u001b[1;33m\u001b[0m\u001b[0m\n\u001b[0m",
      "\u001b[1;31mTypeError\u001b[0m: cannot unpack non-iterable int object"
     ]
    }
   ],
   "source": [
    "e, f, g = 1"
   ]
  },
  {
   "cell_type": "code",
   "execution_count": 691,
   "id": "f327da1f",
   "metadata": {},
   "outputs": [],
   "source": [
    "e = a, b, c"
   ]
  },
  {
   "cell_type": "code",
   "execution_count": 692,
   "id": "4c4a9d43",
   "metadata": {},
   "outputs": [
    {
     "data": {
      "text/plain": [
       "([100, 'Hello'], 100, ('Hello', 100))"
      ]
     },
     "execution_count": 692,
     "metadata": {},
     "output_type": "execute_result"
    }
   ],
   "source": [
    "e"
   ]
  },
  {
   "cell_type": "code",
   "execution_count": 693,
   "id": "80c9bbde",
   "metadata": {},
   "outputs": [],
   "source": [
    "a, b, c = [ 1, 2,3 ]"
   ]
  },
  {
   "cell_type": "code",
   "execution_count": 694,
   "id": "3fcedf08",
   "metadata": {},
   "outputs": [
    {
     "data": {
      "text/plain": [
       "1"
      ]
     },
     "execution_count": 694,
     "metadata": {},
     "output_type": "execute_result"
    }
   ],
   "source": [
    "a"
   ]
  },
  {
   "cell_type": "code",
   "execution_count": 695,
   "id": "f23aa75a",
   "metadata": {},
   "outputs": [
    {
     "data": {
      "text/plain": [
       "2"
      ]
     },
     "execution_count": 695,
     "metadata": {},
     "output_type": "execute_result"
    }
   ],
   "source": [
    "b"
   ]
  },
  {
   "cell_type": "code",
   "execution_count": 696,
   "id": "f58f8550",
   "metadata": {},
   "outputs": [
    {
     "data": {
      "text/plain": [
       "3"
      ]
     },
     "execution_count": 696,
     "metadata": {},
     "output_type": "execute_result"
    }
   ],
   "source": [
    "c"
   ]
  },
  {
   "cell_type": "code",
   "execution_count": 697,
   "id": "a0490c6c",
   "metadata": {},
   "outputs": [],
   "source": [
    "a, *b, c = [1,2,3,4,5,6,7]"
   ]
  },
  {
   "cell_type": "code",
   "execution_count": 698,
   "id": "db4cef19",
   "metadata": {},
   "outputs": [
    {
     "data": {
      "text/plain": [
       "1"
      ]
     },
     "execution_count": 698,
     "metadata": {},
     "output_type": "execute_result"
    }
   ],
   "source": [
    "a"
   ]
  },
  {
   "cell_type": "code",
   "execution_count": 699,
   "id": "d2b77dc8",
   "metadata": {},
   "outputs": [
    {
     "data": {
      "text/plain": [
       "[2, 3, 4, 5, 6]"
      ]
     },
     "execution_count": 699,
     "metadata": {},
     "output_type": "execute_result"
    }
   ],
   "source": [
    "b"
   ]
  },
  {
   "cell_type": "code",
   "execution_count": 700,
   "id": "28ed8a68",
   "metadata": {},
   "outputs": [
    {
     "data": {
      "text/plain": [
       "7"
      ]
     },
     "execution_count": 700,
     "metadata": {},
     "output_type": "execute_result"
    }
   ],
   "source": [
    "c"
   ]
  },
  {
   "cell_type": "code",
   "execution_count": 701,
   "id": "374d818c",
   "metadata": {},
   "outputs": [
    {
     "data": {
      "text/plain": [
       "(1, [2, 3, 4, 5, 6], 7)"
      ]
     },
     "execution_count": 701,
     "metadata": {},
     "output_type": "execute_result"
    }
   ],
   "source": [
    "a, b, c"
   ]
  },
  {
   "cell_type": "code",
   "execution_count": null,
   "id": "3d7a9bc2",
   "metadata": {},
   "outputs": [],
   "source": []
  },
  {
   "cell_type": "code",
   "execution_count": 710,
   "id": "a1c30ad1",
   "metadata": {},
   "outputs": [],
   "source": [
    "ll = [1,2,3,4,5,6,7]"
   ]
  },
  {
   "cell_type": "code",
   "execution_count": 711,
   "id": "051cc512",
   "metadata": {},
   "outputs": [
    {
     "data": {
      "text/plain": [
       "[1, 2, 3, 4, 5, 6, 7]"
      ]
     },
     "execution_count": 711,
     "metadata": {},
     "output_type": "execute_result"
    }
   ],
   "source": [
    "ll"
   ]
  },
  {
   "cell_type": "code",
   "execution_count": 712,
   "id": "00a8b61a",
   "metadata": {},
   "outputs": [],
   "source": [
    "s = slice(3,10)"
   ]
  },
  {
   "cell_type": "code",
   "execution_count": 713,
   "id": "8ccbaf99",
   "metadata": {},
   "outputs": [],
   "source": [
    "ss = ll[s]"
   ]
  },
  {
   "cell_type": "code",
   "execution_count": 714,
   "id": "75f16ee7",
   "metadata": {},
   "outputs": [
    {
     "data": {
      "text/plain": [
       "[4, 5, 6, 7]"
      ]
     },
     "execution_count": 714,
     "metadata": {},
     "output_type": "execute_result"
    }
   ],
   "source": [
    "ss"
   ]
  },
  {
   "cell_type": "code",
   "execution_count": 716,
   "id": "df2a8691",
   "metadata": {},
   "outputs": [
    {
     "data": {
      "text/plain": [
       "[4, 5]"
      ]
     },
     "execution_count": 716,
     "metadata": {},
     "output_type": "execute_result"
    }
   ],
   "source": [
    "ss[:2]"
   ]
  },
  {
   "cell_type": "code",
   "execution_count": null,
   "id": "0bde0191",
   "metadata": {},
   "outputs": [],
   "source": []
  },
  {
   "cell_type": "code",
   "execution_count": 717,
   "id": "39a758a9",
   "metadata": {},
   "outputs": [
    {
     "data": {
      "text/plain": [
       "False"
      ]
     },
     "execution_count": 717,
     "metadata": {},
     "output_type": "execute_result"
    }
   ],
   "source": [
    "ll is ss"
   ]
  },
  {
   "cell_type": "code",
   "execution_count": 718,
   "id": "78f503b9",
   "metadata": {},
   "outputs": [
    {
     "data": {
      "text/plain": [
       "(2518915596480, 2518918459776)"
      ]
     },
     "execution_count": 718,
     "metadata": {},
     "output_type": "execute_result"
    }
   ],
   "source": [
    "id(ll), id(ss)"
   ]
  },
  {
   "cell_type": "code",
   "execution_count": 719,
   "id": "85b06e1c",
   "metadata": {},
   "outputs": [],
   "source": [
    "ss[0] = 999"
   ]
  },
  {
   "cell_type": "code",
   "execution_count": 720,
   "id": "4cbb2b3d",
   "metadata": {},
   "outputs": [
    {
     "data": {
      "text/plain": [
       "[999, 5, 6, 7]"
      ]
     },
     "execution_count": 720,
     "metadata": {},
     "output_type": "execute_result"
    }
   ],
   "source": [
    "ss[:10]"
   ]
  },
  {
   "cell_type": "code",
   "execution_count": 721,
   "id": "2f214135",
   "metadata": {},
   "outputs": [
    {
     "data": {
      "text/plain": [
       "501"
      ]
     },
     "execution_count": 721,
     "metadata": {},
     "output_type": "execute_result"
    }
   ],
   "source": [
    "x|1"
   ]
  },
  {
   "cell_type": "code",
   "execution_count": 722,
   "id": "7e338ad9",
   "metadata": {},
   "outputs": [
    {
     "data": {
      "text/plain": [
       "301"
      ]
     },
     "execution_count": 722,
     "metadata": {},
     "output_type": "execute_result"
    }
   ],
   "source": [
    "y|1"
   ]
  },
  {
   "cell_type": "code",
   "execution_count": 723,
   "id": "dd742b24",
   "metadata": {},
   "outputs": [
    {
     "ename": "NameError",
     "evalue": "name 'q' is not defined",
     "output_type": "error",
     "traceback": [
      "\u001b[1;31m---------------------------------------------------------------------------\u001b[0m",
      "\u001b[1;31mNameError\u001b[0m                                 Traceback (most recent call last)",
      "\u001b[1;32m<ipython-input-723-c75b400ab1a0>\u001b[0m in \u001b[0;36m<module>\u001b[1;34m\u001b[0m\n\u001b[1;32m----> 1\u001b[1;33m \u001b[0mq\u001b[0m\u001b[1;33m|\u001b[0m\u001b[1;36m2\u001b[0m\u001b[1;33m\u001b[0m\u001b[1;33m\u001b[0m\u001b[0m\n\u001b[0m",
      "\u001b[1;31mNameError\u001b[0m: name 'q' is not defined"
     ]
    }
   ],
   "source": [
    "q|2"
   ]
  },
  {
   "cell_type": "code",
   "execution_count": null,
   "id": "edf5eed0",
   "metadata": {},
   "outputs": [],
   "source": []
  },
  {
   "cell_type": "code",
   "execution_count": 724,
   "id": "892f12ef",
   "metadata": {},
   "outputs": [],
   "source": [
    "l = [('a', 4), ('b', 5), ('c', 8), ('d', 9)]"
   ]
  },
  {
   "cell_type": "code",
   "execution_count": 725,
   "id": "b268ff60",
   "metadata": {},
   "outputs": [],
   "source": [
    "de = {k :v for k,v in l if v % 2 == 0}"
   ]
  },
  {
   "cell_type": "code",
   "execution_count": 726,
   "id": "fdc2221d",
   "metadata": {},
   "outputs": [
    {
     "data": {
      "text/plain": [
       "{'a': 4, 'c': 8}"
      ]
     },
     "execution_count": 726,
     "metadata": {},
     "output_type": "execute_result"
    }
   ],
   "source": [
    "de"
   ]
  },
  {
   "cell_type": "code",
   "execution_count": null,
   "id": "b492dc83",
   "metadata": {},
   "outputs": [],
   "source": []
  },
  {
   "cell_type": "code",
   "execution_count": 11,
   "id": "a2a27f37",
   "metadata": {},
   "outputs": [],
   "source": [
    "def add(ab = 1, a = 2):\n",
    "    return ab + a"
   ]
  },
  {
   "cell_type": "code",
   "execution_count": 12,
   "id": "1a69cf54",
   "metadata": {},
   "outputs": [
    {
     "data": {
      "text/plain": [
       "3"
      ]
     },
     "execution_count": 12,
     "metadata": {},
     "output_type": "execute_result"
    }
   ],
   "source": [
    "add()"
   ]
  },
  {
   "cell_type": "code",
   "execution_count": null,
   "id": "cb0fdfbc",
   "metadata": {},
   "outputs": [],
   "source": []
  },
  {
   "cell_type": "code",
   "execution_count": 19,
   "id": "4fb99f22",
   "metadata": {},
   "outputs": [],
   "source": [
    "def area(h, w):\n",
    "    return h * w"
   ]
  },
  {
   "cell_type": "code",
   "execution_count": 20,
   "id": "8369e158",
   "metadata": {},
   "outputs": [],
   "source": [
    "a = area(10, 20)"
   ]
  },
  {
   "cell_type": "code",
   "execution_count": 21,
   "id": "47d7ead1",
   "metadata": {},
   "outputs": [
    {
     "name": "stdout",
     "output_type": "stream",
     "text": [
      "200\n"
     ]
    }
   ],
   "source": [
    "print(a)"
   ]
  },
  {
   "cell_type": "code",
   "execution_count": 24,
   "id": "b34d22c1",
   "metadata": {},
   "outputs": [],
   "source": [
    "b = area(w = \"Height\", h =3)"
   ]
  },
  {
   "cell_type": "code",
   "execution_count": 25,
   "id": "d1e7a4ce",
   "metadata": {},
   "outputs": [
    {
     "name": "stdout",
     "output_type": "stream",
     "text": [
      "HeightHeightHeight\n"
     ]
    }
   ],
   "source": [
    "print(b)"
   ]
  },
  {
   "cell_type": "code",
   "execution_count": 32,
   "id": "c6f9b89b",
   "metadata": {},
   "outputs": [],
   "source": [
    "c = area(20, w=10)"
   ]
  },
  {
   "cell_type": "code",
   "execution_count": 33,
   "id": "68628596",
   "metadata": {},
   "outputs": [
    {
     "data": {
      "text/plain": [
       "200"
      ]
     },
     "execution_count": 33,
     "metadata": {},
     "output_type": "execute_result"
    }
   ],
   "source": [
    "c"
   ]
  },
  {
   "cell_type": "code",
   "execution_count": 34,
   "id": "31d84660",
   "metadata": {},
   "outputs": [
    {
     "ename": "SyntaxError",
     "evalue": "positional argument follows keyword argument (<ipython-input-34-962de2d2576e>, line 1)",
     "output_type": "error",
     "traceback": [
      "\u001b[1;36m  File \u001b[1;32m\"<ipython-input-34-962de2d2576e>\"\u001b[1;36m, line \u001b[1;32m1\u001b[0m\n\u001b[1;33m    f = area(w=10, 20)\u001b[0m\n\u001b[1;37m                   ^\u001b[0m\n\u001b[1;31mSyntaxError\u001b[0m\u001b[1;31m:\u001b[0m positional argument follows keyword argument\n"
     ]
    }
   ],
   "source": [
    "f = area(w=10, 20)"
   ]
  },
  {
   "cell_type": "code",
   "execution_count": null,
   "id": "49b222ae",
   "metadata": {},
   "outputs": [],
   "source": []
  },
  {
   "cell_type": "code",
   "execution_count": 51,
   "id": "38836b06",
   "metadata": {},
   "outputs": [],
   "source": [
    "numbers = list(range(1, 10 + 1))"
   ]
  },
  {
   "cell_type": "code",
   "execution_count": 58,
   "id": "dd720acc",
   "metadata": {},
   "outputs": [
    {
     "name": "stdout",
     "output_type": "stream",
     "text": [
      "[2, 4, 6, 8, 10]\n"
     ]
    }
   ],
   "source": [
    "# 홀수만 출력하기\n",
    "print(list(filter(lambda num: num % 2 == 0, numbers)))"
   ]
  },
  {
   "cell_type": "code",
   "execution_count": 59,
   "id": "b9664f4b",
   "metadata": {},
   "outputs": [
    {
     "name": "stdout",
     "output_type": "stream",
     "text": [
      "[3, 4, 5, 6]\n"
     ]
    }
   ],
   "source": [
    "# 3 이상, 7 미만 추출하기\n",
    "print(list(filter(lambda num: 3 <= num < 7, numbers)))"
   ]
  },
  {
   "cell_type": "code",
   "execution_count": 86,
   "id": "5579abde",
   "metadata": {},
   "outputs": [
    {
     "name": "stdout",
     "output_type": "stream",
     "text": [
      "[1, 2, 3, 4, 5, 6, 7]\n"
     ]
    }
   ],
   "source": [
    "# 제곱해서 50 미만 추출하기\n",
    "print(list(filter(lambda num: (num * num) < 50, numbers)))"
   ]
  },
  {
   "cell_type": "code",
   "execution_count": null,
   "id": "868013b5",
   "metadata": {},
   "outputs": [],
   "source": []
  },
  {
   "cell_type": "code",
   "execution_count": null,
   "id": "09e69b5a",
   "metadata": {},
   "outputs": [],
   "source": []
  },
  {
   "cell_type": "code",
   "execution_count": null,
   "id": "9645aba8",
   "metadata": {},
   "outputs": [],
   "source": []
  }
 ],
 "metadata": {
  "kernelspec": {
   "display_name": "Python 3",
   "language": "python",
   "name": "python3"
  },
  "language_info": {
   "codemirror_mode": {
    "name": "ipython",
    "version": 3
   },
   "file_extension": ".py",
   "mimetype": "text/x-python",
   "name": "python",
   "nbconvert_exporter": "python",
   "pygments_lexer": "ipython3",
   "version": "3.8.10"
  },
  "varInspector": {
   "cols": {
    "lenName": 16,
    "lenType": 16,
    "lenVar": 40
   },
   "kernels_config": {
    "python": {
     "delete_cmd_postfix": "",
     "delete_cmd_prefix": "del ",
     "library": "var_list.py",
     "varRefreshCmd": "print(var_dic_list())"
    },
    "r": {
     "delete_cmd_postfix": ") ",
     "delete_cmd_prefix": "rm(",
     "library": "var_list.r",
     "varRefreshCmd": "cat(var_dic_list()) "
    }
   },
   "types_to_exclude": [
    "module",
    "function",
    "builtin_function_or_method",
    "instance",
    "_Feature"
   ],
   "window_display": false
  }
 },
 "nbformat": 4,
 "nbformat_minor": 5
}
