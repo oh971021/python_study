{
 "cells": [
  {
   "cell_type": "code",
   "execution_count": null,
   "id": "38bcaca5",
   "metadata": {},
   "outputs": [],
   "source": [
    "#판다스 넘파이\n",
    "import pandas as pd\n",
    "import numpy as np \n",
    "\n",
    "#시각화\n",
    "import seaborn as sns \n",
    "import matplotlib.pyplot as plt\n",
    "\n",
    "#머신러닝\n",
    "import lightgbm as lgb\n",
    "from lightgbm import LGBMRegressor\n",
    "\n",
    "#검증평가. 교차검증 점수. \n",
    "from sklearn.model_selection import cross_val_score\n",
    "from sklearn.model_selection import KFold\n",
    "from sklearn.multioutput import MultiOutputRegressor\n",
    "from sklearn.metrics import mean_absolute_error\n",
    "\n",
    "#기타 (tqdm-> for문보다 빠름)\n",
    "from tqdm import tqdm\n",
    "import warnings ; warnings.filterwarnings('ignore')"
   ]
  },
  {
   "cell_type": "code",
   "execution_count": null,
   "id": "7bf9d234",
   "metadata": {},
   "outputs": [],
   "source": [
    "train = pd.read_csv('train.csv') #파일이 py와 같은 폴더 내에 있을 경우. \n",
    "train.head()"
   ]
  },
  {
   "cell_type": "code",
   "execution_count": null,
   "id": "da45cf42",
   "metadata": {},
   "outputs": [],
   "source": [
    "#컬럼에 해당되는 것만 뽑아내기\n",
    "train_dst = train.filter(regex = '_dst$', axis='columns')\n",
    "train_dst"
   ]
  },
  {
   "cell_type": "code",
   "execution_count": null,
   "id": "2e939b82",
   "metadata": {},
   "outputs": [],
   "source": [
    "np.arange(35) *10 + 650 #배열로 만들어 진것을 리스트로 바꾸어 보자 "
   ]
  },
  {
   "cell_type": "code",
   "execution_count": null,
   "id": "bb81ba81",
   "metadata": {},
   "outputs": [],
   "source": [
    "list(np.arange(35) *10 + 650)"
   ]
  },
  {
   "cell_type": "code",
   "execution_count": null,
   "id": "7767ea25",
   "metadata": {},
   "outputs": [],
   "source": [
    "#dst값을 치환하기 \n",
    "train_dst = train.filter(regex = '_dst', axis = 'columns')\n",
    "train_dst.columns = list(np.arange(35) *10 + 650)\n",
    "train_dst.columns"
   ]
  },
  {
   "cell_type": "code",
   "execution_count": null,
   "id": "e10e32c9",
   "metadata": {},
   "outputs": [],
   "source": [
    "train.filter(regex='_dst$',axis=\"columns\").columns"
   ]
  },
  {
   "cell_type": "code",
   "execution_count": null,
   "id": "b4ce032e",
   "metadata": {},
   "outputs": [],
   "source": [
    "train_dst_i = train_dst.interpolate(method = 'linear', axis=1)\n",
    "train_dst_i.columns"
   ]
  },
  {
   "cell_type": "code",
   "execution_count": null,
   "id": "59f40426",
   "metadata": {},
   "outputs": [],
   "source": [
    "#spline, polynomial 사용시 interpolate 괄호안에 order = 숫자 를 넣어야함. \n",
    "#ex) interpolate(method = 'polynomial', axis=1, order =3)\n",
    "train_dst_i = train_dst.interpolate(method = 'linear', axis=1) #linear 보간을 완료 , linear이나 쓰고 싶은것으로. \n",
    "#대신 곡선화는 order추가해주어야함. axis뒤에 order\n",
    "train_dst_i.columns = train.filter(regex='_dst$',axis=\"columns\").columns #숫자 컬럼에서 dst 문자컬럼으로 변경 \n",
    "train_dst_i.columns"
   ]
  },
  {
   "cell_type": "code",
   "execution_count": null,
   "id": "5025a191",
   "metadata": {},
   "outputs": [],
   "source": [
    "test = pd.read_csv('test.csv')\n",
    "test"
   ]
  },
  {
   "cell_type": "code",
   "execution_count": null,
   "id": "4a3656dc",
   "metadata": {},
   "outputs": [],
   "source": [
    "#test파일을 보간하여 보자. \n",
    "test_dst = test.filter(regex='_dst$', axis=\"columns\")\n",
    "test_dst_i = test_dst.interpolate(method = 'linear', axis=1) #linear 보간을 완료 , linear이나 쓰고 싶은것으로. \n",
    "test_dst_i.columns = test.filter(regex='_dst$',axis=\"columns\").columns #숫자 컬럼에서 dst 문자컬럼으로 변경 \n",
    "test_dst_i.columns"
   ]
  },
  {
   "cell_type": "code",
   "execution_count": null,
   "id": "6b8ad846",
   "metadata": {},
   "outputs": [],
   "source": [
    "#데이터 나라시 . 평탄화 작업. 그전 값에서 받아서 채워넣기.\n",
    "\n",
    "# for i in range() => f{i}_dst -> 문자열 안에 함수를 넣기 \n",
    "# 34부터 시작하는 이유 980부터 시작하려고 \n",
    "# 990에 있는 값을 비어있으면 980에 채워넣어라. \n",
    "for i in range(34):  \n",
    "    train_dst_i.loc[train_dst_i[f'{980-(i*10)}_dst'].isna(),\n",
    "                    f'{980-(i*10)}_dst'] = train_dst_i.loc[train_dst_i[f'{980-(i*10)}_dst'].isna(),\n",
    "                                                           f'{990-(i*10)}_dst']\n",
    "    test_dst_i.loc[test_dst_i[f'{980-(i*10)}_dst'].isna(),\n",
    "                   f'{980-(i*10)}_dst'] = test_dst_i.loc[test_dst_i[f'{980-(i*10)}_dst'].isna(),\n",
    "                                                         f'{990-(i*10)}_dst']"
   ]
  },
  {
   "cell_type": "code",
   "execution_count": null,
   "id": "54514317",
   "metadata": {},
   "outputs": [],
   "source": [
    "#변형된 값을 원본에 업데이트 하기\n",
    "train.update(train_dst_i)\n",
    "train"
   ]
  },
  {
   "cell_type": "code",
   "execution_count": null,
   "id": "1fadf5cf",
   "metadata": {},
   "outputs": [],
   "source": [
    "test.update(test_dst_i)\n",
    "test"
   ]
  },
  {
   "cell_type": "code",
   "execution_count": null,
   "id": "54d1bc59",
   "metadata": {},
   "outputs": [],
   "source": [
    "#램버트 비어 법칙을 적용한 New columns을 만들어 보자.\n",
    "#입실론 * c 를 ratio컬럼으로 \n",
    "\n",
    "for i in range(35):\n",
    "    train[f'{650+(i*10)}_ratio'] = np.log(train[f'{650+(i*10)}_src']/train[f'{650+(i*10)}_dst']) / (0.1*train['rho'])\n",
    "    test[f'{650+(i*10)}_ratio'] = np.log(test[f'{650+(i*10)}_src']/test[f'{650+(i*10)}_dst']) / (0.1*test['rho'])"
   ]
  },
  {
   "cell_type": "code",
   "execution_count": null,
   "id": "fc03bbc6",
   "metadata": {},
   "outputs": [],
   "source": [
    "#- + inf 값을 빈값으로 변환 시켜보자\n",
    "\n",
    "train_r = train.filter(regex='_ratio$',axis='columns').replace(float('-inf'),np.nan).replace(float('inf'),np.nan)\n",
    "test_r = test.filter(regex='_ratio$',axis='columns').replace(float('-inf'),np.nan).replace(float('inf'),np.nan)"
   ]
  },
  {
   "cell_type": "code",
   "execution_count": null,
   "id": "d7445b85",
   "metadata": {},
   "outputs": [],
   "source": [
    "#보간 하기 전 컬럼 명을 숫자로 바꾸어 주자\n",
    "train_r.columns = list(650 + 10*np.arange(35))\n",
    "test_r.columns = list(650 + 10*np.arange(35))\n",
    "\n",
    "print(train_r.columns)\n",
    "print(test_r.columns)"
   ]
  },
  {
   "cell_type": "code",
   "execution_count": null,
   "id": "767b4c7b",
   "metadata": {},
   "outputs": [],
   "source": [
    "#컬럼을 보간\n",
    "train_ratio = train_r.interpolate(method='linear',axis=1)\n",
    "test_ratio = test_r.interpolate(method='linear',axis=1)\n",
    "\n",
    "#컬럼명을 다시 원래대로 변경 해서 ratio로 변환.\n",
    "train_ratio.columns = train.filter(regex='_ratio$', axis='columns').columns\n",
    "test_ratio.columns = test.filter(regex='_ratio$', axis='columns').columns\n",
    "\n",
    "#ratio로 새로 만들어 졌는지 확인해보자 . \n",
    "print(train_ratio.columns)\n",
    "print(test_ratio.columns)"
   ]
  },
  {
   "cell_type": "code",
   "execution_count": null,
   "id": "6371a27e",
   "metadata": {},
   "outputs": [],
   "source": [
    "# 빈값을 이전 컬럼에서 가져와 채우는 단계\n",
    "for i in range(34):  \n",
    "    train_ratio.loc[train_ratio[f'{980-(i*10)}_ratio'].isna(),\n",
    "                    f'{980-(i*10)}_ratio'] = train_ratio.loc[train_ratio[f'{980-(i*10)}_ratio'].isna(),\n",
    "                                                           f'{990-(i*10)}_ratio']\n",
    "    test_ratio.loc[test_ratio[f'{980-(i*10)}_ratio'].isna(),\n",
    "                   f'{980-(i*10)}_ratio'] = test_ratio.loc[test_ratio[f'{980-(i*10)}_ratio'].isna(),\n",
    "                                                         f'{990-(i*10)}_ratio']"
   ]
  },
  {
   "cell_type": "code",
   "execution_count": null,
   "id": "22e8b6fa",
   "metadata": {},
   "outputs": [],
   "source": [
    "#잘 변경된것을 확인하였다면 원본파일을 업데이트 하여주자. \n",
    "train.update(train_ratio)\n",
    "test.update(test_ratio)"
   ]
  },
  {
   "cell_type": "code",
   "execution_count": null,
   "id": "3ff5b33e",
   "metadata": {},
   "outputs": [],
   "source": [
    "# 변경된 빛 계산 식에 따라 새로운 식을 만들어 보자. \n",
    "# {[μ * DPF * d] + G} - {[μ * DPF * d] - G} / 지오메트리 변수를 제거해 준다면.. 가시성이 개선되지 않을까?\n",
    "\n",
    "for i in range(35):\n",
    "    train[f'{650 + (10 * i)}_ratio_diff'] = train[f'{650 + (10 * i)}_ratio'] - train['990_ratio']\n",
    "    test[f'{650 + (10 * i)}_ratio_diff'] = test[f'{650 + (10 * i)}_ratio'] - test['990_ratio']\n",
    "\n",
    "#상관도가 너무 높은 값을 제외해주고 전체 값이 상관도가 유의미한 값을 가지도록     \n",
    "for i in range(35):\n",
    "    train[f'{650 + (10 * i)}_ratio_diff2'] = train[f'{650 + (10 * i)}_ratio'] - (train['850_ratio']+train['860_ratio'])/2\n",
    "    test[f'{650 + (10 * i)}_ratio_diff2'] = test[f'{650 + (10 * i)}_ratio'] - (test['850_ratio']+test['860_ratio'])/2  "
   ]
  },
  {
   "cell_type": "code",
   "execution_count": null,
   "id": "4e451254",
   "metadata": {},
   "outputs": [],
   "source": [
    "train_dst = train.filter(regex='_dst$', axis='columns')\n",
    "test_dst = test.filter(regex='_dst$', axis='columns')"
   ]
  },
  {
   "cell_type": "code",
   "execution_count": null,
   "id": "4dddd26d",
   "metadata": {},
   "outputs": [],
   "source": [
    "train_dst.index #(id 값)"
   ]
  },
  {
   "cell_type": "code",
   "execution_count": null,
   "id": "cdbccc76",
   "metadata": {},
   "outputs": [],
   "source": [
    "train_dst.loc[0]"
   ]
  },
  {
   "cell_type": "code",
   "execution_count": null,
   "id": "d01e1636",
   "metadata": {},
   "outputs": [],
   "source": [
    "# 평균 대비 dst 컬럼 값의 비율을 새로운 컬럼으로 만들어보자!.\n",
    "# 위에서 했던 방식대로 하면 길어지니... 새로운 방법으로 해보자구! \n",
    "\n",
    "train_dst = train.filter(regex='_dst$', axis='columns')\n",
    "test_dst = test.filter(regex='_dst$', axis='columns')\n",
    "\n",
    "#tqdm을 써보자! / 0값은 빈값을 넣어주어 평균화에서 배제하게끔 만들어 준다. 실제 컬럼에는 영향을 주지 않는다. \n",
    "for i in tqdm(train_dst.index):\n",
    "    train_dst.loc[i] = train_dst.loc[i] / train_dst.loc[i].replace(0, np.nan).mean()\n",
    "   #test를 써야하는데 test는 10000부터 시작이니까... 따로 작성한다. \n",
    "for i in tqdm(test_dst.index):\n",
    "    test_dst.loc[i] = test_dst.loc[i] / test_dst.loc[i].replace(0, np.nan).mean()\n",
    "    \n",
    "    \n",
    "#업데이트 방식이아니라 새로운 컬럼을 만들어 주자. \n",
    "for i in range(35):\n",
    "    train[f'{650 + 10*i}_dst_r'] = train_dst[f'{650 + 10*i}_dst']\n",
    "    test[f'{650 + 10*i}_dst_r'] = test_dst[f'{650 + 10*i}_dst']"
   ]
  },
  {
   "cell_type": "code",
   "execution_count": null,
   "id": "a405c96a",
   "metadata": {},
   "outputs": [],
   "source": []
  },
  {
   "cell_type": "code",
   "execution_count": null,
   "id": "8d9370df",
   "metadata": {},
   "outputs": [],
   "source": []
  },
  {
   "cell_type": "code",
   "execution_count": null,
   "id": "1917dbb7",
   "metadata": {},
   "outputs": [],
   "source": []
  },
  {
   "cell_type": "code",
   "execution_count": null,
   "id": "ce1bddf3",
   "metadata": {},
   "outputs": [],
   "source": []
  },
  {
   "cell_type": "code",
   "execution_count": null,
   "id": "c528afa1",
   "metadata": {},
   "outputs": [],
   "source": []
  },
  {
   "cell_type": "code",
   "execution_count": null,
   "id": "925e1ecf",
   "metadata": {},
   "outputs": [],
   "source": []
  },
  {
   "cell_type": "code",
   "execution_count": null,
   "id": "c75b533a",
   "metadata": {},
   "outputs": [],
   "source": []
  },
  {
   "cell_type": "code",
   "execution_count": null,
   "id": "9303b738",
   "metadata": {},
   "outputs": [],
   "source": []
  },
  {
   "cell_type": "code",
   "execution_count": null,
   "id": "78203472",
   "metadata": {},
   "outputs": [],
   "source": []
  },
  {
   "cell_type": "code",
   "execution_count": null,
   "id": "ac4d8a7c",
   "metadata": {},
   "outputs": [],
   "source": []
  },
  {
   "cell_type": "code",
   "execution_count": null,
   "id": "9ff2a9cb",
   "metadata": {},
   "outputs": [],
   "source": []
  },
  {
   "cell_type": "code",
   "execution_count": null,
   "id": "46186d12",
   "metadata": {},
   "outputs": [],
   "source": []
  },
  {
   "cell_type": "code",
   "execution_count": null,
   "id": "8aa91e83",
   "metadata": {},
   "outputs": [],
   "source": []
  },
  {
   "cell_type": "code",
   "execution_count": null,
   "id": "72bbf840",
   "metadata": {},
   "outputs": [],
   "source": []
  },
  {
   "cell_type": "code",
   "execution_count": null,
   "id": "a6b8bb09",
   "metadata": {},
   "outputs": [],
   "source": []
  },
  {
   "cell_type": "code",
   "execution_count": null,
   "id": "ce7b2a83",
   "metadata": {},
   "outputs": [],
   "source": []
  },
  {
   "cell_type": "code",
   "execution_count": null,
   "id": "fa884349",
   "metadata": {},
   "outputs": [],
   "source": []
  },
  {
   "cell_type": "code",
   "execution_count": null,
   "id": "1975589e",
   "metadata": {},
   "outputs": [],
   "source": []
  },
  {
   "cell_type": "code",
   "execution_count": null,
   "id": "6f94fd79",
   "metadata": {},
   "outputs": [],
   "source": []
  },
  {
   "cell_type": "code",
   "execution_count": null,
   "id": "48d0f65c",
   "metadata": {},
   "outputs": [],
   "source": []
  },
  {
   "cell_type": "code",
   "execution_count": null,
   "id": "02ba903d",
   "metadata": {},
   "outputs": [],
   "source": []
  },
  {
   "cell_type": "code",
   "execution_count": null,
   "id": "37745bc0",
   "metadata": {},
   "outputs": [],
   "source": []
  },
  {
   "cell_type": "code",
   "execution_count": null,
   "id": "14f2fbc3",
   "metadata": {},
   "outputs": [],
   "source": []
  },
  {
   "cell_type": "code",
   "execution_count": null,
   "id": "cf945a5d",
   "metadata": {},
   "outputs": [],
   "source": []
  },
  {
   "cell_type": "code",
   "execution_count": null,
   "id": "83222e18",
   "metadata": {},
   "outputs": [],
   "source": []
  },
  {
   "cell_type": "code",
   "execution_count": null,
   "id": "f03d0b78",
   "metadata": {},
   "outputs": [],
   "source": []
  },
  {
   "cell_type": "code",
   "execution_count": null,
   "id": "82fff55e",
   "metadata": {},
   "outputs": [],
   "source": []
  },
  {
   "cell_type": "code",
   "execution_count": null,
   "id": "0eaac594",
   "metadata": {},
   "outputs": [],
   "source": []
  },
  {
   "cell_type": "code",
   "execution_count": null,
   "id": "17051f05",
   "metadata": {},
   "outputs": [],
   "source": []
  },
  {
   "cell_type": "code",
   "execution_count": null,
   "id": "06ad601d",
   "metadata": {},
   "outputs": [],
   "source": []
  },
  {
   "cell_type": "code",
   "execution_count": null,
   "id": "682b1371",
   "metadata": {},
   "outputs": [],
   "source": []
  },
  {
   "cell_type": "code",
   "execution_count": null,
   "id": "9839067b",
   "metadata": {},
   "outputs": [],
   "source": []
  },
  {
   "cell_type": "code",
   "execution_count": null,
   "id": "4930ad8c",
   "metadata": {},
   "outputs": [],
   "source": []
  },
  {
   "cell_type": "code",
   "execution_count": null,
   "id": "c125fdb5",
   "metadata": {},
   "outputs": [],
   "source": []
  },
  {
   "cell_type": "code",
   "execution_count": null,
   "id": "3af23862",
   "metadata": {},
   "outputs": [],
   "source": []
  }
 ],
 "metadata": {
  "kernelspec": {
   "display_name": "Python 3",
   "language": "python",
   "name": "python3"
  },
  "language_info": {
   "codemirror_mode": {
    "name": "ipython",
    "version": 3
   },
   "file_extension": ".py",
   "mimetype": "text/x-python",
   "name": "python",
   "nbconvert_exporter": "python",
   "pygments_lexer": "ipython3",
   "version": "3.8.8"
  }
 },
 "nbformat": 4,
 "nbformat_minor": 5
}
