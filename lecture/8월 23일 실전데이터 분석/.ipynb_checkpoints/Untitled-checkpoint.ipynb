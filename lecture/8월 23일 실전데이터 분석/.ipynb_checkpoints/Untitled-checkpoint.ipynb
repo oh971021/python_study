{
 "cells": [
  {
   "cell_type": "markdown",
   "id": "f2b1a7cc",
   "metadata": {},
   "source": [
    "## Rolling"
   ]
  },
  {
   "cell_type": "code",
   "execution_count": 1,
   "id": "a67a1835",
   "metadata": {},
   "outputs": [
    {
     "ename": "SyntaxError",
     "evalue": "invalid syntax (<ipython-input-1-c6fe5799caef>, line 6)",
     "output_type": "error",
     "traceback": [
      "\u001b[1;36m  File \u001b[1;32m\"<ipython-input-1-c6fe5799caef>\"\u001b[1;36m, line \u001b[1;32m6\u001b[0m\n\u001b[1;33m    train['%s_rolling_%s'%(i, k)] = np.log(length1['%s_src'%])\u001b[0m\n\u001b[1;37m                                                            ^\u001b[0m\n\u001b[1;31mSyntaxError\u001b[0m\u001b[1;31m:\u001b[0m invalid syntax\n"
     ]
    }
   ],
   "source": [
    "def rolling_f(train) :\n",
    "    for k in [3,5]:\n",
    "        length1 = train[dst_col].rolling(window = k, min_periods = 1, axis = 1).mean()\n",
    "        length2 = train[dst_col].rolling(window = k, min_periods = 1, axis = 1).mean()\n",
    "        for i in list(650 + np.arange(35)*10):\n",
    "            train['%s_rolling_%s'%(i, k)] = np.log(length1['%s_src'%i]/length2['%s_dst'%i]) / 0.1*train['rho']\n",
    "        return train\n",
    "    \n",
    "train_rf = rolling_f(train_o)\n",
    "test_rf = rolling_f(test_o)"
   ]
  },
  {
   "cell_type": "code",
   "execution_count": 2,
   "id": "78804e3a",
   "metadata": {},
   "outputs": [
    {
     "ename": "NameError",
     "evalue": "name 'train_rf' is not defined",
     "output_type": "error",
     "traceback": [
      "\u001b[1;31m---------------------------------------------------------------------------\u001b[0m",
      "\u001b[1;31mNameError\u001b[0m                                 Traceback (most recent call last)",
      "\u001b[1;32m<ipython-input-2-fff15737a2cb>\u001b[0m in \u001b[0;36m<module>\u001b[1;34m\u001b[0m\n\u001b[0;32m      1\u001b[0m \u001b[1;32mfor\u001b[0m \u001b[0mk\u001b[0m \u001b[1;32min\u001b[0m \u001b[1;33m[\u001b[0m\u001b[1;36m3\u001b[0m\u001b[1;33m,\u001b[0m\u001b[1;36m5\u001b[0m\u001b[1;33m]\u001b[0m\u001b[1;33m:\u001b[0m\u001b[1;33m\u001b[0m\u001b[1;33m\u001b[0m\u001b[0m\n\u001b[0;32m      2\u001b[0m     \u001b[1;32mfor\u001b[0m \u001b[0mi\u001b[0m \u001b[1;32min\u001b[0m \u001b[0mrange\u001b[0m\u001b[1;33m(\u001b[0m\u001b[1;36m35\u001b[0m\u001b[1;33m)\u001b[0m\u001b[1;33m:\u001b[0m\u001b[1;33m\u001b[0m\u001b[1;33m\u001b[0m\u001b[0m\n\u001b[1;32m----> 3\u001b[1;33m         \u001b[0mtrain\u001b[0m\u001b[1;33m[\u001b[0m\u001b[1;34mf'{650 + 10 * i}_rolling_{k}'\u001b[0m\u001b[1;33m]\u001b[0m \u001b[1;33m=\u001b[0m \u001b[0mtrain_rf\u001b[0m\u001b[1;33m[\u001b[0m\u001b[1;34mf'{650 + 10 * i}_rolling_{k}'\u001b[0m\u001b[1;33m]\u001b[0m\u001b[1;33m\u001b[0m\u001b[1;33m\u001b[0m\u001b[0m\n\u001b[0m\u001b[0;32m      4\u001b[0m         \u001b[0mtest\u001b[0m\u001b[1;33m[\u001b[0m\u001b[1;34mf'{650 + 10 * i}_rolling_{k}'\u001b[0m\u001b[1;33m]\u001b[0m \u001b[1;33m=\u001b[0m \u001b[0mtest_rf\u001b[0m\u001b[1;33m[\u001b[0m\u001b[1;34mf'{650 + 10 * i}_rolling_{k}'\u001b[0m\u001b[1;33m]\u001b[0m\u001b[1;33m\u001b[0m\u001b[1;33m\u001b[0m\u001b[0m\n",
      "\u001b[1;31mNameError\u001b[0m: name 'train_rf' is not defined"
     ]
    }
   ],
   "source": [
    "for k in [3,5]:\n",
    "    for i in range(35):\n",
    "        train[f'{650 + 10 * i}_rolling_{k}'] = train_rf[f'{650 + 10 * i}_rolling_{k}']\n",
    "        test[f'{650 + 10 * i}_rolling_{k}'] = test_rf[f'{650 + 10 * i}_rolling_{k}']"
   ]
  },
  {
   "cell_type": "code",
   "execution_count": 3,
   "id": "1495dc87",
   "metadata": {},
   "outputs": [
    {
     "ename": "NameError",
     "evalue": "name 'train' is not defined",
     "output_type": "error",
     "traceback": [
      "\u001b[1;31m---------------------------------------------------------------------------\u001b[0m",
      "\u001b[1;31mNameError\u001b[0m                                 Traceback (most recent call last)",
      "\u001b[1;32m<ipython-input-3-a8a3a48e2a6e>\u001b[0m in \u001b[0;36m<module>\u001b[1;34m\u001b[0m\n\u001b[1;32m----> 1\u001b[1;33m \u001b[0mtrain\u001b[0m\u001b[1;33m.\u001b[0m\u001b[0mfilter\u001b[0m\u001b[1;33m(\u001b[0m\u001b[0mregex\u001b[0m\u001b[1;33m=\u001b[0m\u001b[1;34m'_rolling_5$'\u001b[0m\u001b[1;33m,\u001b[0m \u001b[0maxis\u001b[0m\u001b[1;33m=\u001b[0m\u001b[1;34m'columns'\u001b[0m\u001b[1;33m)\u001b[0m\u001b[1;33m.\u001b[0m\u001b[0mcolumns\u001b[0m\u001b[1;33m\u001b[0m\u001b[1;33m\u001b[0m\u001b[0m\n\u001b[0m",
      "\u001b[1;31mNameError\u001b[0m: name 'train' is not defined"
     ]
    }
   ],
   "source": [
    "# 5는 \n",
    "\n",
    "train.filter(regex='_rolling_5$', axis='columns').columns"
   ]
  },
  {
   "cell_type": "code",
   "execution_count": null,
   "id": "9685acd2",
   "metadata": {},
   "outputs": [],
   "source": []
  }
 ],
 "metadata": {
  "kernelspec": {
   "display_name": "Python 3",
   "language": "python",
   "name": "python3"
  },
  "language_info": {
   "codemirror_mode": {
    "name": "ipython",
    "version": 3
   },
   "file_extension": ".py",
   "mimetype": "text/x-python",
   "name": "python",
   "nbconvert_exporter": "python",
   "pygments_lexer": "ipython3",
   "version": "3.8.8"
  }
 },
 "nbformat": 4,
 "nbformat_minor": 5
}
